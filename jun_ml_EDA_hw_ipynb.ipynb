{
  "nbformat": 4,
  "nbformat_minor": 0,
  "metadata": {
    "kernelspec": {
      "display_name": "Python 3",
      "language": "python",
      "name": "python3"
    },
    "language_info": {
      "codemirror_mode": {
        "name": "ipython",
        "version": 3
      },
      "file_extension": ".py",
      "mimetype": "text/x-python",
      "name": "python",
      "nbconvert_exporter": "python",
      "pygments_lexer": "ipython3",
      "version": "3.6.3"
    },
    "colab": {
      "name": "Копия блокнота \"jun_ml_EDA_hw.ipynb\"",
      "provenance": []
    }
  },
  "cells": [
    {
      "cell_type": "markdown",
      "metadata": {
        "id": "ORsCe1f4zI_Q",
        "colab_type": "text"
      },
      "source": [
        "## Разведочный анализ\n",
        "\n",
        "Подключитесь к базе данных PostgreSQL и выгрузите таблицу `exploratory`, сохранив ее в датафрейм. <br> <br>\n",
        "Параметры для подключения следующие: хост – `dsstudents.skillbox.ru`, порт – `5432`, имя базы данных – `db_ds_students`, пользователь – `readonly`, пароль – `6hajV34RTQfmxhS`."
      ]
    },
    {
      "cell_type": "code",
      "metadata": {
        "id": "QVR_Xho1zI_d",
        "colab_type": "code",
        "colab": {}
      },
      "source": [
        "### YOUR CODE HERE ###"
      ],
      "execution_count": null,
      "outputs": []
    },
    {
      "cell_type": "markdown",
      "metadata": {
        "id": "e3J8MfhCJFZo",
        "colab_type": "text"
      },
      "source": [
        ""
      ]
    },
    {
      "cell_type": "markdown",
      "metadata": {
        "id": "qhtweauCzI_u",
        "colab_type": "text"
      },
      "source": [
        "Постройте гистограммы распределения для каждой переменной. Поэксперементируйте с количеством \"разбивок\" (bins). Опишите распределение каждой переменной. В каких областях (пример: от нуля до 2 расположено примерно треть всех значений) сосредоточено больше значений, в каких меньше. "
      ]
    },
    {
      "cell_type": "code",
      "metadata": {
        "id": "7a3WnvanzI_y",
        "colab_type": "code",
        "colab": {}
      },
      "source": [
        "### YOUR CODE HERE ###"
      ],
      "execution_count": null,
      "outputs": []
    },
    {
      "cell_type": "code",
      "metadata": {
        "id": "kZgqcDfdJUJp",
        "colab_type": "code",
        "colab": {}
      },
      "source": [
        ""
      ],
      "execution_count": null,
      "outputs": []
    },
    {
      "cell_type": "markdown",
      "metadata": {
        "id": "Ve0XuZ2xzI_-",
        "colab_type": "text"
      },
      "source": [
        "Постройте ящик с усами для каждой переменной. Опишите распределение данных. Прокомментируйте наличие или отсутствие выбросов."
      ]
    },
    {
      "cell_type": "code",
      "metadata": {
        "id": "lxUDLzT0zJAC",
        "colab_type": "code",
        "colab": {}
      },
      "source": [
        "### YOUR CODE HERE ###"
      ],
      "execution_count": null,
      "outputs": []
    },
    {
      "cell_type": "markdown",
      "metadata": {
        "id": "97hwZ2clzJAO",
        "colab_type": "text"
      },
      "source": [
        "Допустим, мы хотим построить регрессионную модель по имеющимся данным и исследовать влияние остальных переменных на переменную `feature_4`. Постройте диаграммы рассеяния. Определите по графикам, какие независимые переменные имело бы смысл включить в модель регрессии?"
      ]
    },
    {
      "cell_type": "code",
      "metadata": {
        "id": "vYHnmy-TzJAR",
        "colab_type": "code",
        "colab": {}
      },
      "source": [
        "### YOUR CODE HERE ###"
      ],
      "execution_count": null,
      "outputs": []
    }
  ]
}