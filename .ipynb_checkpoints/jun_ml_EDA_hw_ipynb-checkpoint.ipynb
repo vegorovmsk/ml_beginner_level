{
 "cells": [
  {
   "cell_type": "markdown",
   "metadata": {
    "colab_type": "text",
    "id": "ORsCe1f4zI_Q"
   },
   "source": [
    "## Разведочный анализ\n",
    "\n",
    "Подключитесь к базе данных PostgreSQL и выгрузите таблицу `exploratory`, сохранив ее в датафрейм. <br> <br>\n",
    "Параметры для подключения следующие: хост – `dsstudents.skillbox.ru`, порт – `5432`, имя базы данных – `db_ds_students`, пользователь – `readonly`, пароль – `6hajV34RTQfmxhS`."
   ]
  },
  {
   "cell_type": "code",
   "execution_count": 27,
   "metadata": {
    "colab": {},
    "colab_type": "code",
    "id": "QVR_Xho1zI_d"
   },
   "outputs": [],
   "source": [
    "import pandas as pd\n",
    "import matplotlib.pyplot as plt\n",
    "import seaborn as sns\n",
    "import psycopg2"
   ]
  },
  {
   "cell_type": "code",
   "execution_count": 9,
   "metadata": {
    "colab": {},
    "colab_type": "code",
    "id": "QVR_Xho1zI_d"
   },
   "outputs": [
    {
     "data": {
      "text/html": [
       "<div>\n",
       "<style scoped>\n",
       "    .dataframe tbody tr th:only-of-type {\n",
       "        vertical-align: middle;\n",
       "    }\n",
       "\n",
       "    .dataframe tbody tr th {\n",
       "        vertical-align: top;\n",
       "    }\n",
       "\n",
       "    .dataframe thead th {\n",
       "        text-align: right;\n",
       "    }\n",
       "</style>\n",
       "<table border=\"1\" class=\"dataframe\">\n",
       "  <thead>\n",
       "    <tr style=\"text-align: right;\">\n",
       "      <th></th>\n",
       "      <th>feature_1</th>\n",
       "      <th>feature_2</th>\n",
       "      <th>feature_3</th>\n",
       "      <th>feature_4</th>\n",
       "      <th>feature_5</th>\n",
       "    </tr>\n",
       "  </thead>\n",
       "  <tbody>\n",
       "    <tr>\n",
       "      <th>0</th>\n",
       "      <td>2.4399302341553932</td>\n",
       "      <td>-2.180960698389708</td>\n",
       "      <td>33.4684964804719</td>\n",
       "      <td>-1.9273880121739875</td>\n",
       "      <td>-5.3213919475057105</td>\n",
       "    </tr>\n",
       "    <tr>\n",
       "      <th>1</th>\n",
       "      <td>1.7705797495879034</td>\n",
       "      <td>-1.174880454210172</td>\n",
       "      <td>0.9895926481354946</td>\n",
       "      <td>-1.1396809115663187</td>\n",
       "      <td>-2.0802195404111687</td>\n",
       "    </tr>\n",
       "    <tr>\n",
       "      <th>2</th>\n",
       "      <td>0.7428169764168391</td>\n",
       "      <td>-0.2634829113111655</td>\n",
       "      <td>0.16814863490368492</td>\n",
       "      <td>-0.3324379721161745</td>\n",
       "      <td>-0.19571957951766614</td>\n",
       "    </tr>\n",
       "    <tr>\n",
       "      <th>3</th>\n",
       "      <td>-1.510891800324271</td>\n",
       "      <td>2.7125712625192238</td>\n",
       "      <td>-2.6856430298672915</td>\n",
       "      <td>2.0584952423727403</td>\n",
       "      <td>-4.098401678335551</td>\n",
       "    </tr>\n",
       "    <tr>\n",
       "      <th>4</th>\n",
       "      <td>-0.4835110394772655</td>\n",
       "      <td>0.096511221663355</td>\n",
       "      <td>-0.028703495808161117</td>\n",
       "      <td>0.1687629004635419</td>\n",
       "      <td>-0.04666424110766956</td>\n",
       "    </tr>\n",
       "  </tbody>\n",
       "</table>\n",
       "</div>"
      ],
      "text/plain": [
       "                        feature_1                       feature_2  \\\n",
       "0  2.4399302341553932              -2.180960698389708               \n",
       "1  1.7705797495879034              -1.174880454210172               \n",
       "2  0.7428169764168391              -0.2634829113111655              \n",
       "3  -1.510891800324271              2.7125712625192238               \n",
       "4  -0.4835110394772655             0.096511221663355                \n",
       "\n",
       "                        feature_3                       feature_4  \\\n",
       "0  33.4684964804719                -1.9273880121739875              \n",
       "1  0.9895926481354946              -1.1396809115663187              \n",
       "2  0.16814863490368492             -0.3324379721161745              \n",
       "3  -2.6856430298672915             2.0584952423727403               \n",
       "4  -0.028703495808161117           0.1687629004635419               \n",
       "\n",
       "                        feature_5  \n",
       "0  -5.3213919475057105             \n",
       "1  -2.0802195404111687             \n",
       "2  -0.19571957951766614            \n",
       "3  -4.098401678335551              \n",
       "4  -0.04666424110766956            "
      ]
     },
     "execution_count": 9,
     "metadata": {},
     "output_type": "execute_result"
    }
   ],
   "source": [
    "connection = psycopg2.connect(user='readonly',\n",
    "                              password='6hajV34RTQfmxhS',\n",
    "                              host='dsstudents.skillbox.ru',\n",
    "                              port='5432',\n",
    "                              database='db_ds_students')\n",
    "sql = \"SELECT * FROM exploratory;\"\n",
    "df = pd.read_sql(sql, connection)\n",
    "df.head()"
   ]
  },
  {
   "cell_type": "code",
   "execution_count": 18,
   "metadata": {},
   "outputs": [
    {
     "data": {
      "text/plain": [
       "['feature_1', 'feature_2', 'feature_3', 'feature_4', 'feature_5']"
      ]
     },
     "execution_count": 18,
     "metadata": {},
     "output_type": "execute_result"
    }
   ],
   "source": [
    "df.columns.to_list()"
   ]
  },
  {
   "cell_type": "code",
   "execution_count": 10,
   "metadata": {},
   "outputs": [
    {
     "name": "stdout",
     "output_type": "stream",
     "text": [
      "<class 'pandas.core.frame.DataFrame'>\n",
      "RangeIndex: 100 entries, 0 to 99\n",
      "Data columns (total 5 columns):\n",
      " #   Column     Non-Null Count  Dtype \n",
      "---  ------     --------------  ----- \n",
      " 0   feature_1  100 non-null    object\n",
      " 1   feature_2  100 non-null    object\n",
      " 2   feature_3  100 non-null    object\n",
      " 3   feature_4  100 non-null    object\n",
      " 4   feature_5  100 non-null    object\n",
      "dtypes: object(5)\n",
      "memory usage: 4.0+ KB\n",
      "None\n"
     ]
    }
   ],
   "source": [
    "print(df.info())"
   ]
  },
  {
   "cell_type": "markdown",
   "metadata": {
    "colab_type": "text",
    "id": "e3J8MfhCJFZo"
   },
   "source": []
  },
  {
   "cell_type": "markdown",
   "metadata": {
    "colab_type": "text",
    "id": "qhtweauCzI_u"
   },
   "source": [
    "Постройте гистограммы распределения для каждой переменной. Поэксперементируйте с количеством \"разбивок\" (bins). Опишите распределение каждой переменной. В каких областях (пример: от нуля до 2 расположено примерно треть всех значений) сосредоточено больше значений, в каких меньше. "
   ]
  },
  {
   "cell_type": "code",
   "execution_count": 35,
   "metadata": {
    "colab": {},
    "colab_type": "code",
    "id": "7a3WnvanzI_y"
   },
   "outputs": [
    {
     "data": {
      "image/png": "[encoded data removed]",
      "text/plain": [
       "<Figure size 1800x360 with 5 Axes>"
      ]
     },
     "metadata": {
      "needs_background": "light"
     },
     "output_type": "display_data"
    }
   ],
   "source": [
    "fig, axes = plt.subplots(1, 5, figsize=(25, 5))\n",
    "for feat, ax in zip(df.columns.to_list(), axes.ravel()):\n",
    "    sns.distplot(df[feat], bins=20, ax=ax)\n",
    "plt.show()"
   ]
  },
  {
   "cell_type": "code",
   "execution_count": null,
   "metadata": {
    "colab": {},
    "colab_type": "code",
    "id": "kZgqcDfdJUJp"
   },
   "outputs": [],
   "source": []
  },
  {
   "cell_type": "markdown",
   "metadata": {
    "colab_type": "text",
    "id": "Ve0XuZ2xzI_-"
   },
   "source": [
    "Постройте ящик с усами для каждой переменной. Опишите распределение данных. Прокомментируйте наличие или отсутствие выбросов."
   ]
  },
  {
   "cell_type": "code",
   "execution_count": null,
   "metadata": {
    "colab": {},
    "colab_type": "code",
    "id": "lxUDLzT0zJAC"
   },
   "outputs": [],
   "source": [
    "### YOUR CODE HERE ###"
   ]
  },
  {
   "cell_type": "markdown",
   "metadata": {
    "colab_type": "text",
    "id": "97hwZ2clzJAO"
   },
   "source": [
    "Допустим, мы хотим построить регрессионную модель по имеющимся данным и исследовать влияние остальных переменных на переменную `feature_4`. Постройте диаграммы рассеяния. Определите по графикам, какие независимые переменные имело бы смысл включить в модель регрессии?"
   ]
  },
  {
   "cell_type": "code",
   "execution_count": null,
   "metadata": {
    "colab": {},
    "colab_type": "code",
    "id": "vYHnmy-TzJAR"
   },
   "outputs": [],
   "source": [
    "### YOUR CODE HERE ###"
   ]
  }
 ],
 "metadata": {
  "colab": {
   "name": "Копия блокнота \"jun_ml_EDA_hw.ipynb\"",
   "provenance": []
  },
  "kernelspec": {
   "display_name": "Python 3",
   "language": "python",
   "name": "python3"
  },
  "language_info": {
   "codemirror_mode": {
    "name": "ipython",
    "version": 3
   },
   "file_extension": ".py",
   "mimetype": "text/x-python",
   "name": "python",
   "nbconvert_exporter": "python",
   "pygments_lexer": "ipython3",
   "version": "3.8.5"
  }
 },
 "nbformat": 4,
 "nbformat_minor": 1
}
