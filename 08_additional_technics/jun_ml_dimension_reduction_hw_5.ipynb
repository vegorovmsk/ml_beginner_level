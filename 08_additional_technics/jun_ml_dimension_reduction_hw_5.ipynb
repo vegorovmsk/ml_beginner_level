{
 "cells": [
  {
   "cell_type": "markdown",
   "metadata": {
    "id": "q92frZ1hzNT3"
   },
   "source": [
    "## Урок 8. Домашнее задание \n",
    "### 8.1 Задание высокого уровня\n",
    "\n",
    "Давайте проверим, как t-sne может улучшить Ваши модели. Для начала загрузим данные и построим Baseline модель без преобразования входных данных"
   ]
  },
  {
   "cell_type": "code",
   "execution_count": 1,
   "metadata": {
    "id": "_gcQ-CQ3zNUQ"
   },
   "outputs": [
    {
     "data": {
      "text/plain": [
       "array([[-0.66642088,  0.44491071, -0.27353803],\n",
       "       [-0.88927281, -0.53789631, -1.95946861],\n",
       "       [-0.84150307,  0.84666476,  0.72760594],\n",
       "       [ 1.38974939,  0.39091086,  1.78924575],\n",
       "       [-1.22821053, -1.37589924, -1.43420875]])"
      ]
     },
     "execution_count": 1,
     "metadata": {},
     "output_type": "execute_result"
    }
   ],
   "source": [
    "import pandas as pd\n",
    "from sklearn.tree import DecisionTreeClassifier\n",
    "from sklearn.model_selection import train_test_split\n",
    "from sklearn.metrics import accuracy_score, roc_auc_score\n",
    "\n",
    "def eval_model(input_x, input_y):\n",
    "    \"\"\"Обучаем и валидируем модель\"\"\"\n",
    "    X_train, X_test, y_train, y_test = train_test_split(\n",
    "        input_x, input_y, test_size=.3, stratify=y, random_state=42\n",
    "    )\n",
    "    # Для примера возьмём неглубокое дерево решений\n",
    "    clf = DecisionTreeClassifier(max_depth=2, random_state=42)\n",
    "    clf.fit(X_train, y_train)\n",
    "    preds = clf.predict_proba(X_test)\n",
    "    acc_score = accuracy_score(y_test, preds.argmax(axis=1))\n",
    "    print('Accuracy: %.5f' % acc_score)\n",
    "    \n",
    "df_source = pd.read_csv('data/client_segmentation.csv')\n",
    "X = df_source[['call_diff','sms_diff','traffic_diff']].values\n",
    "y = df_source.customes_class.values\n",
    "X[:5, :]"
   ]
  },
  {
   "cell_type": "markdown",
   "metadata": {
    "id": "EGcbYYxLzNUq"
   },
   "source": [
    "Вычисляем скор baseline модели (по тестовым данным)"
   ]
  },
  {
   "cell_type": "code",
   "execution_count": 2,
   "metadata": {
    "id": "iM-fSpU1zNUw",
    "outputId": "25f8725f-4504-4ac1-d287-4abae60acc3b"
   },
   "outputs": [
    {
     "name": "stdout",
     "output_type": "stream",
     "text": [
      "Accuracy: 0.80000\n"
     ]
    }
   ],
   "source": [
    "eval_model(X, y)"
   ]
  },
  {
   "cell_type": "markdown",
   "metadata": {
    "id": "bWmS26jdzNVJ"
   },
   "source": [
    "Алгоритм выполнения домашней работы:\n",
    "\n",
    "* выполните PCA преобразование матрицы $X$, передайте новую матрицу в `eval_model`. Какое значение Accuracy получили?\n",
    "* выполните t-sne преобразование матрицы $X$, передайте новую матрицу в `eval_model`. Какое значение Accuracy получили?\n",
    "\n",
    "Какие выводы можно сделать?"
   ]
  },
  {
   "cell_type": "code",
   "execution_count": 3,
   "metadata": {},
   "outputs": [],
   "source": [
    "from sklearn.decomposition import PCA\n",
    "from sklearn.manifold import TSNE"
   ]
  },
  {
   "cell_type": "code",
   "execution_count": 4,
   "metadata": {},
   "outputs": [
    {
     "data": {
      "text/plain": [
       "array([[-0.75744517, -0.16623077],\n",
       "       [-2.61154618, -0.5951692 ],\n",
       "       [ 0.13301346,  0.37383597],\n",
       "       [ 1.74983161, -0.27582433],\n",
       "       [-2.69734129,  0.31624463]])"
      ]
     },
     "execution_count": 4,
     "metadata": {},
     "output_type": "execute_result"
    }
   ],
   "source": [
    "pca_model = PCA(n_components=2, random_state=42).fit(X)\n",
    "X_pca_transformed = pca_model.transform(X)\n",
    "X_pca_transformed[:5, :]"
   ]
  },
  {
   "cell_type": "code",
   "execution_count": 5,
   "metadata": {},
   "outputs": [
    {
     "name": "stdout",
     "output_type": "stream",
     "text": [
      "Accuracy: 0.83333\n"
     ]
    }
   ],
   "source": [
    "eval_model(X_pca_transformed, y)"
   ]
  },
  {
   "cell_type": "code",
   "execution_count": 6,
   "metadata": {},
   "outputs": [
    {
     "data": {
      "text/plain": [
       "array([[ 2.3649616 ,  0.76114285],\n",
       "       [ 6.0506516 ,  4.257251  ],\n",
       "       [ 0.57555956, -0.26314712],\n",
       "       [ 2.3915305 , -5.4918976 ],\n",
       "       [ 5.2887306 ,  5.7113843 ]], dtype=float32)"
      ]
     },
     "execution_count": 6,
     "metadata": {},
     "output_type": "execute_result"
    }
   ],
   "source": [
    "tsne_transformer = TSNE(n_components=2, random_state=42)\n",
    "X_tsne_transformed = tsne_transformer.fit_transform(X)\n",
    "X_tsne_transformed[:5, :]"
   ]
  },
  {
   "cell_type": "code",
   "execution_count": 7,
   "metadata": {},
   "outputs": [
    {
     "name": "stdout",
     "output_type": "stream",
     "text": [
      "Accuracy: 0.86667\n"
     ]
    }
   ],
   "source": [
    "eval_model(X_tsne_transformed, y)"
   ]
  },
  {
   "cell_type": "markdown",
   "metadata": {},
   "source": [
    "**Алгоритм t-SNE улучшил точность модели в большей степени, чем  алгоритм PCA**"
   ]
  },
  {
   "cell_type": "markdown",
   "metadata": {
    "id": "i-qWNTVlzNVa"
   },
   "source": [
    "В этом уроке мы познакомились с новым алгоритмом t-SNE. Какие у него есть недостатки?\n",
    "\n",
    "* требует бережной настройки параметров на валидационной выборке (см. документацию - там очень много параметров)\n",
    "* плохо работает, когда данных очень много.\n",
    "\n",
    "На больших объёмах данных (более 10к элементов) следует применять более простые алгоритмы - PCA или SVD."
   ]
  }
 ],
 "metadata": {
  "colab": {
   "collapsed_sections": [],
   "name": "jun_ml_dimension_reduction_hw-5.ipynb",
   "provenance": []
  },
  "kernelspec": {
   "display_name": "Python 3",
   "language": "python",
   "name": "python3"
  },
  "language_info": {
   "codemirror_mode": {
    "name": "ipython",
    "version": 3
   },
   "file_extension": ".py",
   "mimetype": "text/x-python",
   "name": "python",
   "nbconvert_exporter": "python",
   "pygments_lexer": "ipython3",
   "version": "3.8.3"
  }
 },
 "nbformat": 4,
 "nbformat_minor": 1
}
