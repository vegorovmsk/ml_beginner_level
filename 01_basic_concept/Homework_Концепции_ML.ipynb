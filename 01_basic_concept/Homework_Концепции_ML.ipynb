{
  "nbformat": 4,
  "nbformat_minor": 0,
  "metadata": {
    "kernelspec": {
      "display_name": "Python 3",
      "language": "python",
      "name": "python3"
    },
    "language_info": {
      "codemirror_mode": {
        "name": "ipython",
        "version": 3
      },
      "file_extension": ".py",
      "mimetype": "text/x-python",
      "name": "python",
      "nbconvert_exporter": "python",
      "pygments_lexer": "ipython3",
      "version": "3.6.3"
    },
    "colab": {
      "name": "Homework_Концепции_ML.ipynb",
      "provenance": [],
      "collapsed_sections": [],
      "toc_visible": true
    }
  },
  "cells": [
    {
      "cell_type": "markdown",
      "metadata": {
        "id": "AA9qiddM7MxM",
        "colab_type": "text"
      },
      "source": [
        "# Основные концепции Machine Learning. Домашняя работа"
      ]
    },
    {
      "cell_type": "code",
      "metadata": {
        "id": "_XMI1aaX7MxQ",
        "colab_type": "code",
        "colab": {}
      },
      "source": [
        "### Тут нужно сделать импорты всех необходимых библиотек ###"
      ],
      "execution_count": null,
      "outputs": []
    },
    {
      "cell_type": "code",
      "metadata": {
        "id": "0Kjpkv3o7MxZ",
        "colab_type": "code",
        "colab": {}
      },
      "source": [
        ""
      ],
      "execution_count": null,
      "outputs": []
    },
    {
      "cell_type": "code",
      "metadata": {
        "id": "fD4otYne7Mxi",
        "colab_type": "code",
        "colab": {}
      },
      "source": [
        "### Здесь требуется загрузить датасет phones.csv ###"
      ],
      "execution_count": null,
      "outputs": []
    },
    {
      "cell_type": "code",
      "metadata": {
        "id": "HzmOX-Yd7Mxo",
        "colab_type": "code",
        "colab": {}
      },
      "source": [
        ""
      ],
      "execution_count": null,
      "outputs": []
    },
    {
      "cell_type": "code",
      "metadata": {
        "id": "a2Hw3Jso7Mxt",
        "colab_type": "code",
        "colab": {}
      },
      "source": [
        "### Опционально: используя matplotlib, можно сделать визуализацию загруженного датасета ###"
      ],
      "execution_count": null,
      "outputs": []
    },
    {
      "cell_type": "code",
      "metadata": {
        "id": "rXhrelNp7Mx0",
        "colab_type": "code",
        "colab": {}
      },
      "source": [
        ""
      ],
      "execution_count": null,
      "outputs": []
    },
    {
      "cell_type": "markdown",
      "metadata": {
        "id": "h1rvGoCB7Mx5",
        "colab_type": "text"
      },
      "source": [
        "Задание 1: обучить модель регрессии"
      ]
    },
    {
      "cell_type": "code",
      "metadata": {
        "id": "XY23EgHH7Mx6",
        "colab_type": "code",
        "colab": {}
      },
      "source": [
        "### Тут нужно выгрузить в соответствующие переменные выбранные признаки ###\n",
        "# X = \n",
        "# y ="
      ],
      "execution_count": null,
      "outputs": []
    },
    {
      "cell_type": "code",
      "metadata": {
        "id": "US0Ox9F57Mx9",
        "colab_type": "code",
        "colab": {}
      },
      "source": [
        "### Здесь следует запустить процесс обучения ###\n",
        "### и продемонстрировать работоспобность обученной модели ###"
      ],
      "execution_count": null,
      "outputs": []
    },
    {
      "cell_type": "code",
      "metadata": {
        "id": "1sDXbyZU7MyC",
        "colab_type": "code",
        "colab": {}
      },
      "source": [
        ""
      ],
      "execution_count": null,
      "outputs": []
    },
    {
      "cell_type": "markdown",
      "metadata": {
        "id": "yuclRz_n7MyE",
        "colab_type": "text"
      },
      "source": [
        "Задание 2: обучить модель классификации"
      ]
    },
    {
      "cell_type": "code",
      "metadata": {
        "id": "J4Ht5MM97MyF",
        "colab_type": "code",
        "colab": {}
      },
      "source": [
        "### Тут нужно выгрузить в соответствующие переменные выбранные признаки ###\n",
        "# X = \n",
        "# y ="
      ],
      "execution_count": null,
      "outputs": []
    },
    {
      "cell_type": "code",
      "metadata": {
        "id": "DMpz3V8g7MyI",
        "colab_type": "code",
        "colab": {}
      },
      "source": [
        "### Здесь следует запустить процесс обучения ###\n",
        "### и продемонстрировать работоспобность обученной модели ###"
      ],
      "execution_count": null,
      "outputs": []
    },
    {
      "cell_type": "code",
      "metadata": {
        "id": "hS-diYYZ7MyK",
        "colab_type": "code",
        "colab": {}
      },
      "source": [
        ""
      ],
      "execution_count": null,
      "outputs": []
    },
    {
      "cell_type": "markdown",
      "metadata": {
        "id": "PLUEg9NE7MyM",
        "colab_type": "text"
      },
      "source": [
        "Задание 3: обучить модель кластеризации"
      ]
    },
    {
      "cell_type": "code",
      "metadata": {
        "id": "uI70MBPL7MyN",
        "colab_type": "code",
        "colab": {}
      },
      "source": [
        "### Тут нужно выгрузить в соответствующие переменные выбранные признаки ###\n",
        "# X = "
      ],
      "execution_count": null,
      "outputs": []
    },
    {
      "cell_type": "code",
      "metadata": {
        "id": "Fn65CuKw7MyR",
        "colab_type": "code",
        "colab": {}
      },
      "source": [
        "### Здесь следует запустить процесс обучения ###\n",
        "### и продемонстрировать работоспобность обученной модели ###"
      ],
      "execution_count": null,
      "outputs": []
    },
    {
      "cell_type": "code",
      "metadata": {
        "id": "Icl5e_aO7MyU",
        "colab_type": "code",
        "colab": {}
      },
      "source": [
        ""
      ],
      "execution_count": null,
      "outputs": []
    },
    {
      "cell_type": "code",
      "metadata": {
        "id": "Ci4wJ02o7MyX",
        "colab_type": "code",
        "colab": {}
      },
      "source": [
        ""
      ],
      "execution_count": null,
      "outputs": []
    }
  ]
}