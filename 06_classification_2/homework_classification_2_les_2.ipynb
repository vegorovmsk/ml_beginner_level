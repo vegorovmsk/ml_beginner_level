{
  "nbformat": 4,
  "nbformat_minor": 0,
  "metadata": {
    "colab": {
      "name": "homework_classification-2_les-2.ipynb",
      "provenance": [],
      "collapsed_sections": []
    },
    "kernelspec": {
      "display_name": "Python 3",
      "language": "python",
      "name": "python3"
    },
    "language_info": {
      "codemirror_mode": {
        "name": "ipython",
        "version": 3
      },
      "file_extension": ".py",
      "mimetype": "text/x-python",
      "name": "python",
      "nbconvert_exporter": "python",
      "pygments_lexer": "ipython3",
      "version": "3.6.3"
    }
  },
  "cells": [
    {
      "cell_type": "markdown",
      "metadata": {
        "id": "-smrZewE1tU2"
      },
      "source": [
        "# Урок 6. Многоклассовая классификация.\n",
        "\n",
        "Посмотрим на примере алгоритма логистической регрессии и метода опорных векторов, как работать с различными методами многоклассовой классификации."
      ]
    },
    {
      "cell_type": "markdown",
      "metadata": {
        "id": "S5kQdZzo1tU3"
      },
      "source": [
        "### 1.\n",
        "Вспомните датасет Wine. Загрузите его, разделите на тренировочную и тестовую выборки (random_state=17), используя только [9, 11, 12] признаки."
      ]
    },
    {
      "cell_type": "code",
      "metadata": {
        "id": "paB2E5141tU4"
      },
      "source": [
        "from sklearn.datasets import load_wine\n",
        "from sklearn.model_selection import train_test_split"
      ],
      "execution_count": null,
      "outputs": []
    },
    {
      "cell_type": "code",
      "metadata": {
        "id": "LdwwBPqq1tU7"
      },
      "source": [
        "### YOUR CODE HERE ###\n",
        "\n",
        "\n",
        "\n"
      ],
      "execution_count": null,
      "outputs": []
    },
    {
      "cell_type": "markdown",
      "metadata": {
        "id": "HMLiMOUr1tU9"
      },
      "source": [
        "**Задайте тип кросс-валидации с помощью StratifiedKFold: 5-кратная, random_state=17.**"
      ]
    },
    {
      "cell_type": "code",
      "metadata": {
        "id": "OTY-C4me1tU-"
      },
      "source": [
        "from sklearn.model_selection import StratifiedKFold, cross_val_score"
      ],
      "execution_count": null,
      "outputs": []
    },
    {
      "cell_type": "code",
      "metadata": {
        "id": "LOVHhQ921tVA"
      },
      "source": [
        "skf = ### YOUR CODE HERE ###\n",
        "\n"
      ],
      "execution_count": null,
      "outputs": []
    },
    {
      "cell_type": "markdown",
      "metadata": {
        "id": "-2ClbxRe1tVC"
      },
      "source": [
        "### 2.\n",
        "Обучите логистическую регрессию (LogisticRegression) с параметром C по умолчанию и random_state=17. Укажите гиперпараметр multi_class='ovr' - по умолчанию многие классификаторы используют именно его. С помощью cross_val_score сделайте кросс-валидацию (используйте объект skf) и выведите среднюю долю правильных ответов на ней (используйте функцию mean). Отдельно выведите долю правильных ответов на тестовой выборке."
      ]
    },
    {
      "cell_type": "code",
      "metadata": {
        "id": "oKxIIFGU1tVE"
      },
      "source": [
        "from sklearn.linear_model import LogisticRegression\n",
        "from sklearn.metrics import accuracy_score"
      ],
      "execution_count": null,
      "outputs": []
    },
    {
      "cell_type": "code",
      "metadata": {
        "id": "CJhpcgqc1tVJ"
      },
      "source": [
        "### YOUR CODE HERE ###\n",
        "\n",
        "\n",
        "\n",
        "\n"
      ],
      "execution_count": null,
      "outputs": []
    },
    {
      "cell_type": "markdown",
      "metadata": {
        "id": "k2JoC3fB1tVM"
      },
      "source": [
        "### 3.\n",
        "Обучите метод опорных векторов (SVC) с random_state=17 и остальными параметрами по умолчанию. Этот метод при мультиклассовой классификации также использует метод \"ovr\". Сделайте кросс-валидацию (используйте skf) и, как и в предыдущем пункте, выведите среднюю долю правильных ответов на ней. Отдельно выведите долю правильных ответов на тестовой выборке."
      ]
    },
    {
      "cell_type": "code",
      "metadata": {
        "id": "50kaD7MQ1tVN"
      },
      "source": [
        "from sklearn.svm import SVC"
      ],
      "execution_count": null,
      "outputs": []
    },
    {
      "cell_type": "code",
      "metadata": {
        "id": "3DCvlNRd1tVR"
      },
      "source": [
        "### YOUR CODE HERE ###\n",
        "\n",
        "\n",
        "\n",
        "\n"
      ],
      "execution_count": null,
      "outputs": []
    },
    {
      "cell_type": "markdown",
      "metadata": {
        "id": "xMvjv6pR1tVX"
      },
      "source": [
        "Как видно из полученной метрики, на тестовой выборке метод с гиперпараметрами по умолчанию работает явно намного хуже логистической регрессии. В целом, SVM достаточно плохо масштабируется на размер обучающего набора данных (как видно, даже с тремя признаками он работает не очень хорошо), но благодаря возможности выбора различных ядер (функций близости, которые помогают разделять данные) и другим гиперпараметрам SVM можно достаточно точно настроить под определенный вид данных. Подробнее на этом останавливаться в контексте данного урока не будем."
      ]
    },
    {
      "cell_type": "markdown",
      "metadata": {
        "id": "0LqZbdk31tVY"
      },
      "source": [
        "### 4.\n",
        "Для предсказаний обеих моделей постройте матрицу ошибок (confusion matrix) и напишите, какие классы каждая из моделей путает больше всего между собой."
      ]
    },
    {
      "cell_type": "code",
      "metadata": {
        "id": "5dRSK--u1tVY"
      },
      "source": [
        "from sklearn.metrics import classification_report, confusion_matrix"
      ],
      "execution_count": null,
      "outputs": []
    },
    {
      "cell_type": "code",
      "metadata": {
        "id": "VkXUKkhp1tVb"
      },
      "source": [
        "### YOUR CODE HERE ###\n",
        "\n",
        "\n",
        "\n",
        "\n"
      ],
      "execution_count": null,
      "outputs": []
    },
    {
      "cell_type": "markdown",
      "metadata": {
        "id": "mqW8if321tVd"
      },
      "source": [
        "### 5.\n",
        "Для каждой модели выведите classification report."
      ]
    },
    {
      "cell_type": "code",
      "metadata": {
        "id": "iuu7neuS1tVe"
      },
      "source": [
        "### YOUR CODE HERE ###\n",
        "\n",
        "\n",
        "\n",
        "\n",
        "\n"
      ],
      "execution_count": null,
      "outputs": []
    }
  ]
}