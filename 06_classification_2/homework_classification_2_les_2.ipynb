{
 "cells": [
  {
   "cell_type": "markdown",
   "metadata": {
    "id": "-smrZewE1tU2"
   },
   "source": [
    "# Урок 6. Многоклассовая классификация.\n",
    "\n",
    "Посмотрим на примере алгоритма логистической регрессии и метода опорных векторов, как работать с различными методами многоклассовой классификации."
   ]
  },
  {
   "cell_type": "markdown",
   "metadata": {
    "id": "S5kQdZzo1tU3"
   },
   "source": [
    "### 1.\n",
    "Вспомните датасет Wine. Загрузите его, разделите на тренировочную и тестовую выборки (random_state=17), используя только [9, 11, 12] признаки."
   ]
  },
  {
   "cell_type": "code",
   "execution_count": 1,
   "metadata": {
    "id": "paB2E5141tU4"
   },
   "outputs": [],
   "source": [
    "import pandas as pd\n",
    "import numpy as np\n",
    "\n",
    "from sklearn.datasets import load_wine\n",
    "from sklearn.model_selection import train_test_split"
   ]
  },
  {
   "cell_type": "code",
   "execution_count": 2,
   "metadata": {
    "id": "LdwwBPqq1tU7"
   },
   "outputs": [],
   "source": [
    "wine = load_wine()\n",
    "wine.keys()\n",
    "df = pd.DataFrame(wine.data, columns=wine.feature_names).iloc[:, [9, 11, 12]]\n",
    "x_tr, x_val, y_tr, y_val = train_test_split(df, wine.target, random_state=17)"
   ]
  },
  {
   "cell_type": "markdown",
   "metadata": {
    "id": "HMLiMOUr1tU9"
   },
   "source": [
    "**Задайте тип кросс-валидации с помощью StratifiedKFold: 5-кратная, random_state=17.**"
   ]
  },
  {
   "cell_type": "code",
   "execution_count": 3,
   "metadata": {
    "id": "OTY-C4me1tU-"
   },
   "outputs": [],
   "source": [
    "from sklearn.model_selection import StratifiedKFold, cross_val_score"
   ]
  },
  {
   "cell_type": "code",
   "execution_count": 4,
   "metadata": {
    "id": "LOVHhQ921tVA"
   },
   "outputs": [],
   "source": [
    "skf = StratifiedKFold(n_splits=5, random_state=17, shuffle=True)"
   ]
  },
  {
   "cell_type": "markdown",
   "metadata": {
    "id": "-2ClbxRe1tVC"
   },
   "source": [
    "### 2.\n",
    "Обучите логистическую регрессию (LogisticRegression) с параметром C по умолчанию и random_state=17. Укажите гиперпараметр multi_class='ovr' - по умолчанию многие классификаторы используют именно его. С помощью cross_val_score сделайте кросс-валидацию (используйте объект skf) и выведите среднюю долю правильных ответов на ней (используйте функцию mean). Отдельно выведите долю правильных ответов на тестовой выборке."
   ]
  },
  {
   "cell_type": "code",
   "execution_count": 5,
   "metadata": {
    "id": "oKxIIFGU1tVE"
   },
   "outputs": [],
   "source": [
    "from sklearn.linear_model import LogisticRegression\n",
    "from sklearn.metrics import accuracy_score"
   ]
  },
  {
   "cell_type": "code",
   "execution_count": 6,
   "metadata": {
    "id": "CJhpcgqc1tVJ"
   },
   "outputs": [
    {
     "name": "stdout",
     "output_type": "stream",
     "text": [
      "Средняя доля правильных ответов на обучении = 0.90969\n",
      "Средняя доля правильных ответов на валидации = 0.95556\n"
     ]
    }
   ],
   "source": [
    "lr = LogisticRegression(random_state=17, multi_class='ovr')\n",
    "lr.fit(x_tr, y_tr)\n",
    "scores_train_lr = cross_val_score(lr, x_tr, y_tr, cv=skf)\n",
    "print(\"Средняя доля правильных ответов на обучении = {:.5f}\".format(scores_train_lr.mean()))\n",
    "scores_validate_lr = cross_val_score(lr, x_val, y_val, cv=skf)\n",
    "print(\"Средняя доля правильных ответов на валидации = {:.5f}\".format(scores_validate_lr.mean()))"
   ]
  },
  {
   "cell_type": "markdown",
   "metadata": {
    "id": "k2JoC3fB1tVM"
   },
   "source": [
    "### 3.\n",
    "Обучите метод опорных векторов (SVC) с random_state=17 и остальными параметрами по умолчанию. Этот метод при мультиклассовой классификации также использует метод \"ovr\". Сделайте кросс-валидацию (используйте skf) и, как и в предыдущем пункте, выведите среднюю долю правильных ответов на ней. Отдельно выведите долю правильных ответов на тестовой выборке."
   ]
  },
  {
   "cell_type": "code",
   "execution_count": 7,
   "metadata": {
    "id": "50kaD7MQ1tVN"
   },
   "outputs": [],
   "source": [
    "from sklearn.svm import SVC"
   ]
  },
  {
   "cell_type": "code",
   "execution_count": 8,
   "metadata": {
    "id": "3DCvlNRd1tVR"
   },
   "outputs": [
    {
     "name": "stdout",
     "output_type": "stream",
     "text": [
      "Средняя доля правильных ответов на обучении = 0.69231\n",
      "Средняя доля правильных ответов на валидации = 0.75556\n"
     ]
    }
   ],
   "source": [
    "svc = SVC(random_state=17)\n",
    "svc.fit(x_tr, y_tr)\n",
    "scores_train_svc = cross_val_score(svc, x_tr, y_tr, cv=skf)\n",
    "print(\"Средняя доля правильных ответов на обучении = {:.5f}\".format(scores_train_svc.mean()))\n",
    "scores_validate_svc = cross_val_score(svc, x_val, y_val, cv=skf)\n",
    "print(\"Средняя доля правильных ответов на валидации = {:.5f}\".format(scores_validate_svc.mean()))"
   ]
  },
  {
   "cell_type": "markdown",
   "metadata": {
    "id": "xMvjv6pR1tVX"
   },
   "source": [
    "Как видно из полученной метрики, на тестовой выборке метод с гиперпараметрами по умолчанию работает явно намного хуже логистической регрессии. В целом, SVM достаточно плохо масштабируется на размер обучающего набора данных (как видно, даже с тремя признаками он работает не очень хорошо), но благодаря возможности выбора различных ядер (функций близости, которые помогают разделять данные) и другим гиперпараметрам SVM можно достаточно точно настроить под определенный вид данных. Подробнее на этом останавливаться в контексте данного урока не будем."
   ]
  },
  {
   "cell_type": "markdown",
   "metadata": {
    "id": "0LqZbdk31tVY"
   },
   "source": [
    "### 4.\n",
    "Для предсказаний обеих моделей постройте матрицу ошибок (confusion matrix) и напишите, какие классы каждая из моделей путает больше всего между собой."
   ]
  },
  {
   "cell_type": "code",
   "execution_count": 9,
   "metadata": {
    "id": "5dRSK--u1tVY"
   },
   "outputs": [],
   "source": [
    "from sklearn.metrics import classification_report, confusion_matrix"
   ]
  },
  {
   "cell_type": "code",
   "execution_count": 10,
   "metadata": {
    "id": "VkXUKkhp1tVb"
   },
   "outputs": [
    {
     "data": {
      "text/plain": [
       "array([[ 9,  0,  0],\n",
       "       [ 0, 19,  0],\n",
       "       [ 0,  4, 13]])"
      ]
     },
     "execution_count": 10,
     "metadata": {},
     "output_type": "execute_result"
    }
   ],
   "source": [
    "confusion_matrix(y_val, lr.predict(x_val))"
   ]
  },
  {
   "cell_type": "code",
   "execution_count": 11,
   "metadata": {
    "id": "VkXUKkhp1tVb"
   },
   "outputs": [
    {
     "data": {
      "text/plain": [
       "array([[ 9,  0,  0],\n",
       "       [ 0, 19,  0],\n",
       "       [ 2, 15,  0]])"
      ]
     },
     "execution_count": 11,
     "metadata": {},
     "output_type": "execute_result"
    }
   ],
   "source": [
    "confusion_matrix(y_val, svc.predict(x_val))"
   ]
  },
  {
   "cell_type": "markdown",
   "metadata": {
    "id": "mqW8if321tVd"
   },
   "source": [
    "### 5.\n",
    "Для каждой модели выведите classification report."
   ]
  },
  {
   "cell_type": "code",
   "execution_count": 12,
   "metadata": {},
   "outputs": [
    {
     "name": "stdout",
     "output_type": "stream",
     "text": [
      "              precision    recall  f1-score   support\n",
      "\n",
      "           0       1.00      1.00      1.00         9\n",
      "           1       0.83      1.00      0.90        19\n",
      "           2       1.00      0.76      0.87        17\n",
      "\n",
      "    accuracy                           0.91        45\n",
      "   macro avg       0.94      0.92      0.92        45\n",
      "weighted avg       0.93      0.91      0.91        45\n",
      "\n"
     ]
    }
   ],
   "source": [
    "print(classification_report(y_val, lr.predict(x_val)))"
   ]
  },
  {
   "cell_type": "code",
   "execution_count": 13,
   "metadata": {
    "scrolled": true
   },
   "outputs": [
    {
     "name": "stdout",
     "output_type": "stream",
     "text": [
      "              precision    recall  f1-score   support\n",
      "\n",
      "           0       0.82      1.00      0.90         9\n",
      "           1       0.56      1.00      0.72        19\n",
      "           2       0.00      0.00      0.00        17\n",
      "\n",
      "    accuracy                           0.62        45\n",
      "   macro avg       0.46      0.67      0.54        45\n",
      "weighted avg       0.40      0.62      0.48        45\n",
      "\n"
     ]
    },
    {
     "name": "stderr",
     "output_type": "stream",
     "text": [
      "/home/vladimir/anaconda3/lib/python3.8/site-packages/sklearn/metrics/_classification.py:1221: UndefinedMetricWarning: Precision and F-score are ill-defined and being set to 0.0 in labels with no predicted samples. Use `zero_division` parameter to control this behavior.\n",
      "  _warn_prf(average, modifier, msg_start, len(result))\n"
     ]
    }
   ],
   "source": [
    "print(classification_report(y_val, svc.predict(x_val)))"
   ]
  }
 ],
 "metadata": {
  "colab": {
   "collapsed_sections": [],
   "name": "homework_classification-2_les-2.ipynb",
   "provenance": []
  },
  "kernelspec": {
   "display_name": "Python 3",
   "language": "python",
   "name": "python3"
  },
  "language_info": {
   "codemirror_mode": {
    "name": "ipython",
    "version": 3
   },
   "file_extension": ".py",
   "mimetype": "text/x-python",
   "name": "python",
   "nbconvert_exporter": "python",
   "pygments_lexer": "ipython3",
   "version": "3.8.3"
  }
 },
 "nbformat": 4,
 "nbformat_minor": 1
}
