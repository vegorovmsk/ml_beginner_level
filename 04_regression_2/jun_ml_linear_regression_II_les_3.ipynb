{
  "nbformat": 4,
  "nbformat_minor": 0,
  "metadata": {
    "celltoolbar": "Slideshow",
    "kernelspec": {
      "display_name": "Python 3",
      "language": "python",
      "name": "python3"
    },
    "language_info": {
      "codemirror_mode": {
        "name": "ipython",
        "version": 3
      },
      "file_extension": ".py",
      "mimetype": "text/x-python",
      "name": "python",
      "nbconvert_exporter": "python",
      "pygments_lexer": "ipython3",
      "version": "3.6.3"
    },
    "colab": {
      "name": "jun_ml_linear_regression_II-les_3.ipynb",
      "provenance": [],
      "include_colab_link": true
    }
  },
  "cells": [
    {
      "cell_type": "markdown",
      "metadata": {
        "id": "view-in-github",
        "colab_type": "text"
      },
      "source": [
        "<a href=\"https://colab.research.google.com/github/vegorovmsk/ml_beginner_level/blob/master/jun_ml_linear_regression_II_les_3.ipynb\" target=\"_parent\"><img src=\"https://colab.research.google.com/assets/colab-badge.svg\" alt=\"Open In Colab\"/></a>"
      ]
    },
    {
      "cell_type": "markdown",
      "metadata": {
        "id": "I-kCjUaZk0JQ"
      },
      "source": [
        "# Урок 3. Математическая магия регуляризации\n",
        "\n",
        "Мы узнали, как применять регуляризацию для борьбы с переобучением. Но почему это работает? Как регуляризация появляется в формулах, которые мы изучили в модуле \"Линейная регрессия. Часть I.\" Об этом поговорим прямо сейчас, подкрепив знания новыми формулами и питоновским кодом.\n",
        "\n",
        "Мы уже умеем определять, что модель переобучилась - нужно обучать на тренировочном сете, а метрику качества считать на валидационном. Давайте  построим несколько моделей полиномиальной регрессии для разных степеней полинома, чтобы выявить \"волшебную\" степень, в которой недообученная модель становится переобученной"
      ]
    },
    {
      "cell_type": "markdown",
      "metadata": {
        "id": "-IQOOToWk0JT"
      },
      "source": [
        "Экспериментировать будем на том же датасете, что и в первом уроке этого модуля."
      ]
    },
    {
      "cell_type": "code",
      "metadata": {
        "id": "9CWY7XYWk0JU",
        "outputId": "78b89626-c06d-4048-d4aa-f8881a004abc"
      },
      "source": [
        "import numpy as np\n",
        "import pandas as pd\n",
        "\n",
        "data = pd.read_csv('non_linear.csv', sep=',')\n",
        "data.head()"
      ],
      "execution_count": null,
      "outputs": [
        {
          "output_type": "execute_result",
          "data": {
            "text/html": [
              "<div>\n",
              "<style scoped>\n",
              "    .dataframe tbody tr th:only-of-type {\n",
              "        vertical-align: middle;\n",
              "    }\n",
              "\n",
              "    .dataframe tbody tr th {\n",
              "        vertical-align: top;\n",
              "    }\n",
              "\n",
              "    .dataframe thead th {\n",
              "        text-align: right;\n",
              "    }\n",
              "</style>\n",
              "<table border=\"1\" class=\"dataframe\">\n",
              "  <thead>\n",
              "    <tr style=\"text-align: right;\">\n",
              "      <th></th>\n",
              "      <th>x_train</th>\n",
              "      <th>y_train</th>\n",
              "    </tr>\n",
              "  </thead>\n",
              "  <tbody>\n",
              "    <tr>\n",
              "      <th>0</th>\n",
              "      <td>0.138368</td>\n",
              "      <td>0.838812</td>\n",
              "    </tr>\n",
              "    <tr>\n",
              "      <th>1</th>\n",
              "      <td>0.157237</td>\n",
              "      <td>0.889313</td>\n",
              "    </tr>\n",
              "    <tr>\n",
              "      <th>2</th>\n",
              "      <td>0.188684</td>\n",
              "      <td>1.430040</td>\n",
              "    </tr>\n",
              "    <tr>\n",
              "      <th>3</th>\n",
              "      <td>0.685553</td>\n",
              "      <td>1.717309</td>\n",
              "    </tr>\n",
              "    <tr>\n",
              "      <th>4</th>\n",
              "      <td>0.874237</td>\n",
              "      <td>2.032588</td>\n",
              "    </tr>\n",
              "  </tbody>\n",
              "</table>\n",
              "</div>"
            ],
            "text/plain": [
              "    x_train   y_train\n",
              "0  0.138368  0.838812\n",
              "1  0.157237  0.889313\n",
              "2  0.188684  1.430040\n",
              "3  0.685553  1.717309\n",
              "4  0.874237  2.032588"
            ]
          },
          "metadata": {
            "tags": []
          },
          "execution_count": 1
        }
      ]
    },
    {
      "cell_type": "markdown",
      "metadata": {
        "id": "05PdbsEzk0Jb"
      },
      "source": [
        "Отобразим данные на графике с помощью matplotlib, как мы научились делать в курсе по аналитике."
      ]
    },
    {
      "cell_type": "code",
      "metadata": {
        "id": "VHeEbfpJk0Jc",
        "outputId": "9424695b-4bae-46a7-ecb2-931f76b0a6b6"
      },
      "source": [
        "import matplotlib.pyplot as plt\n",
        "%matplotlib inline\n",
        "# основной график\n",
        "plt.scatter(data.x_train, data.y_train, 40, 'g', 'o', alpha=0.8)\n",
        "plt.show()"
      ],
      "execution_count": null,
      "outputs": [
        {
          "output_type": "display_data",
          "data": {
            "image/png": "[encoded data removed]",
            "text/plain": [
              "<Figure size 432x288 with 1 Axes>"
            ]
          },
          "metadata": {
            "tags": [],
            "needs_background": "light"
          }
        }
      ]
    },
    {
      "cell_type": "markdown",
      "metadata": {
        "id": "lubDl0aXk0Jh"
      },
      "source": [
        "Обучим полиномиальную регрессию для разных степеней полинома: очень большой, очень маленькой и средней. Мы уже знаем, что для полиномиальной модели порядка $n$ в матрицу фичей $X$ добавляются степени фичей (например, в случае обучения регрессии на единственной фиче модуль приобретёт вид $y = w_0 + w_1x +w_2x^2 + \\ldots + w_nx^n$) - мы изучали этот процесс подробно в уроке \"Полиномиальная регрессия\" модуля \"Линейная регрессия. Часть I\".\n",
        "\n",
        "Скопируем из модуля \"Линейная регрессия. Часть 1\" функцию для тренировки полиномиальной регрессии. Кроме прочей информации будем вычислять т.н. *норму вектора* - это просто корень из суммы квадратов коэффициентов линейной регрессии. Чтобы избавиться от корня, будем вычислять квадрат нормы, обозначается как $\\|w\\|^2$. Вообще понятие нормы вектора будет вас преследовать в течении всего курса, так что если смутно помните, что это - посмотрите про норму вектора на Youtube и в Википедии\n",
        "\n",
        "* https://www.youtube.com/watch?time_continue=1&v=b0dgsaYbOVI\n",
        "* https://www.youtube.com/watch?time_continue=262&v=05j0DOCRnjI\n",
        "* [Статья про норму вектора на википедии](https://ru.wikipedia.org/wiki/Норма_(математика))"
      ]
    },
    {
      "cell_type": "markdown",
      "metadata": {
        "id": "X6MoVT8qk0Ji"
      },
      "source": [
        "Норма вектора обозначется двумя вертикальными линиями:\n",
        "$$\n",
        "\\|w\\|^2 = w_1^2+\\ldots+w_n^2\n",
        "$$\n",
        "\n",
        "Для вычисления этой метрики используем [функцию norm из numpy](https://docs.scipy.org/doc/numpy-1.15.0/reference/generated/numpy.linalg.norm.html). Обучать модель будем на тренировочном сете, а проверять качество модели на валидационном, как мы научились в первом уроке. Чтобы не захламлять график, я буду визуализировать только валидационный сет, а так же сами предсказания модели."
      ]
    },
    {
      "cell_type": "code",
      "metadata": {
        "id": "_pFj7qsWk0Jj"
      },
      "source": [
        "from sklearn.linear_model import LinearRegression\n",
        "from numpy.linalg import norm\n",
        "from sklearn.metrics import mean_squared_error\n",
        "from sklearn.model_selection import train_test_split\n",
        "\n",
        "\n",
        "def generate_degrees(source_data: list, degree: int):\n",
        "    \"\"\"Функция, которая принимает на вход одномерный массив, а возвращает n-мерный\n",
        "    Для каждой степени от 1 до  degree возводим x в эту степень\n",
        "    \"\"\"\n",
        "    return np.array([\n",
        "          source_data**n for n in range(1, degree + 1)  \n",
        "    ]).T\n",
        "\n",
        "def train_polynomial(degree, data):\n",
        "    \"\"\"Генерим данные, тренируем модель  \n",
        "    дополнительно рисуем график\n",
        "    \"\"\"\n",
        "    X = generate_degrees(data['x_train'], degree)\n",
        "    y = data.y_train.values\n",
        "    X_train, X_valid, y_train, y_valid = train_test_split(X, y, test_size=0.2, random_state=10)\n",
        "    model = LinearRegression().fit(X_train, y_train)\n",
        "    y_pred = model.predict(X_valid)\n",
        "    y_pred_train = model.predict(X_train)\n",
        "    error_valid = mean_squared_error(y_valid, y_pred)\n",
        "    error_train = mean_squared_error(y_train, y_pred_train)\n",
        "    print(\n",
        "        \"Степень полинома %d\\nОшибка на валидации %.3f\\nОшибка на обучении %.3f\" %\n",
        "        (degree, error_valid, error_train)\n",
        "    )\n",
        "    order_test = np.argsort(X_valid[:,0])\n",
        "    plt.scatter(X_valid[:,0][order_test], y_valid[order_test], 40, 'r', 'o', alpha=0.8)\n",
        "    print(\"Норма вектора весов \\t||w|| = %.2f\" % (norm(model.coef_)))\n",
        "    # визуализируем решение\n",
        "    x_linspace = np.linspace(data['x_train'].min(), data['x_train'].max(), num=100)\n",
        "    y_linspace = model.predict(generate_degrees(x_linspace, degree))\n",
        "    plt.plot(x_linspace, y_linspace)\n",
        "    return error_valid, error_train, norm(model.coef_)\n",
        "\n",
        "degrees = []\n",
        "valid_errors = []\n",
        "train_errors = []\n",
        "w_norm = []"
      ],
      "execution_count": null,
      "outputs": []
    },
    {
      "cell_type": "markdown",
      "metadata": {
        "id": "K8osPQMQk0Jn"
      },
      "source": [
        "Давайте проведём эксперимент чтобы узнать, как входные данные влияют на коэффициенты линейной регрессии. Третья степень *degree=3*:"
      ]
    },
    {
      "cell_type": "code",
      "metadata": {
        "id": "omtaLXhbk0Jo",
        "outputId": "a4d2de53-3ddb-4873-f055-a6679271b5a9"
      },
      "source": [
        "degree = 3\n",
        "\n",
        "error_valid, error_train, coef_norm = train_polynomial(degree, data)\n",
        "\n",
        "degrees.append(degree)\n",
        "valid_errors.append(error_valid)\n",
        "train_errors.append(error_train)\n",
        "w_norm.append(coef_norm)"
      ],
      "execution_count": null,
      "outputs": [
        {
          "output_type": "stream",
          "text": [
            "Степень полинома 3\n",
            "Ошибка на валидации 0.051\n",
            "Ошибка на обучении 0.077\n",
            "Норма вектора весов \t||w|| = 2.19\n"
          ],
          "name": "stdout"
        },
        {
          "output_type": "display_data",
          "data": {
            "image/png": "[encoded data removed]",
            "text/plain": [
              "<Figure size 432x288 with 1 Axes>"
            ]
          },
          "metadata": {
            "tags": [],
            "needs_background": "light"
          }
        }
      ]
    },
    {
      "cell_type": "markdown",
      "metadata": {
        "id": "W1Wa1BBik0Ju"
      },
      "source": [
        "Пятая степень"
      ]
    },
    {
      "cell_type": "code",
      "metadata": {
        "id": "ZfZfrwQ3k0Jv",
        "outputId": "0eb94656-a929-43ce-fde1-1daae5c128bc"
      },
      "source": [
        "degree = 5\n",
        "\n",
        "error_valid, error_train, coef_norm = train_polynomial(degree, data)\n",
        "\n",
        "degrees.append(degree)\n",
        "valid_errors.append(error_valid)\n",
        "train_errors.append(error_train)\n",
        "w_norm.append(coef_norm)"
      ],
      "execution_count": null,
      "outputs": [
        {
          "output_type": "stream",
          "text": [
            "Степень полинома 5\n",
            "Ошибка на валидации 0.063\n",
            "Ошибка на обучении 0.069\n",
            "Норма вектора весов \t||w|| = 3.31\n"
          ],
          "name": "stdout"
        },
        {
          "output_type": "display_data",
          "data": {
            "image/png": "[encoded data removed]",
            "text/plain": [
              "<Figure size 432x288 with 1 Axes>"
            ]
          },
          "metadata": {
            "tags": [],
            "needs_background": "light"
          }
        }
      ]
    },
    {
      "cell_type": "markdown",
      "metadata": {
        "id": "WbvbTFlkk0J1"
      },
      "source": [
        "Десятая степень"
      ]
    },
    {
      "cell_type": "code",
      "metadata": {
        "id": "gU1zsfJvk0J2",
        "outputId": "dde28cad-5a76-493d-80cc-4fe8c1b08fe4"
      },
      "source": [
        "degree = 10\n",
        "\n",
        "error_valid, error_train, coef_norm = train_polynomial(degree, data)\n",
        "\n",
        "degrees.append(degree)\n",
        "valid_errors.append(error_valid)\n",
        "train_errors.append(error_train)\n",
        "w_norm.append(coef_norm)"
      ],
      "execution_count": null,
      "outputs": [
        {
          "output_type": "stream",
          "text": [
            "Степень полинома 10\n",
            "Ошибка на валидации 0.122\n",
            "Ошибка на обучении 0.052\n",
            "Норма вектора весов \t||w|| = 120.14\n"
          ],
          "name": "stdout"
        },
        {
          "output_type": "display_data",
          "data": {
            "image/png": "[encoded data removed]",
            "text/plain": [
              "<Figure size 432x288 with 1 Axes>"
            ]
          },
          "metadata": {
            "tags": [],
            "needs_background": "light"
          }
        }
      ]
    },
    {
      "cell_type": "markdown",
      "metadata": {
        "id": "q_xwKfHQk0J8"
      },
      "source": [
        "В этом абстрактном эксперименте: видны следующие закономерности\n",
        "\n",
        "* степень полинома растёт $\\rightarrow$ ошибка на тренировочных данных падает\n",
        "* степень полинома растёт $\\rightarrow$ ошибка на валидации растёт\n",
        "* степень полинома растёт $\\rightarrow$ сумма квадратов коэффициентов регрессии растёт\n",
        "\n",
        "Ничего себе! Мы детектировали переобучение, о котором говорили в первом модуле. Для наглядности нарисуем график, на котором\n",
        "* по оси $oX$ - степень полинома\n",
        "* по оси $oY$ - ошибка на валидации и ошибка на обучении"
      ]
    },
    {
      "cell_type": "code",
      "metadata": {
        "id": "RXTJhPA4k0J9",
        "outputId": "4c352849-a5c5-4419-c83d-9d881ba7d439"
      },
      "source": [
        "from matplotlib import pyplot\n",
        "%matplotlib inline\n",
        "\n",
        "fig, ax = plt.subplots()\n",
        "ax.plot(degrees, valid_errors, 'k--', label='Validation error')\n",
        "ax.plot(degrees, train_errors, 'k:', label='Train error')\n",
        "\n",
        "legend = ax.legend(loc='upper center', shadow=True, fontsize='x-large')\n",
        "\n",
        "plt.show()"
      ],
      "execution_count": null,
      "outputs": [
        {
          "output_type": "display_data",
          "data": {
            "image/png": "[encoded data removed]",
            "text/plain": [
              "<Figure size 432x288 with 1 Axes>"
            ]
          },
          "metadata": {
            "tags": [],
            "needs_background": "light"
          }
        }
      ]
    },
    {
      "cell_type": "markdown",
      "metadata": {
        "id": "ESoJSyM-k0KD"
      },
      "source": [
        "На графике можно заметить, как с ростом степени полинома ошибка на валидации начинает расти, а на обучении, наоборот, падать. Одновременно с ухудшением качества модели на валидации можно заметить, как растёт норма вектора коэффициентов $w$ -  от значения $2.19$ до значения $120.14$, то есть большие по модулю величины коэффициентов свидетельствуют о том, что модель переобучается. \n",
        "\n",
        "В начале урока мы хотели узнать, в какой точке модель будет получается сбалансированной и не \"оверфиттится\". Эта точка - там, где две линии ошибок пересекаются. В этой точке, которая соответствует степени полинома *degree=5*, модель достаточно хороша на обучении и не слишком плоха на валидации."
      ]
    },
    {
      "cell_type": "markdown",
      "metadata": {
        "id": "Lg9O3n-Rk0KI"
      },
      "source": [
        "Мы подобрались к главному вопросу этого модуля: почему случается переобучение с точки зрения математики? Вспомним, что мы получаем предсказания модели, используя коэффициенты регрессии, в виде\n",
        "\n",
        "$$\n",
        "\\hat{y} = w_0x_0 + \\ldots w_nx_n\n",
        "$$\n",
        "\n",
        "По этой формуле видно, что величина коэффициентов $w$ по модулю сильно влияет на предсказания - чем больше коэффициенты линейной регрессии $w=[w_1,\\ldots,w_n]$, тем больше таргет $y$ при одинаковом значении $x$, зависимость линейная.\n",
        "\n",
        "Вспомним, что аналитическая формула для нахождения коэффициентов регрессии выглядит вот так \n",
        "$$\n",
        "\\overline{w} = \\left(X^TX\\right)^{-1}X^TY\n",
        "$$\n",
        "\n",
        "Такое решение получается, когда мы минимизируем функцию ошибок ($N$ - число обучающих примеров):\n",
        "\n",
        "$$\n",
        "L(y,w) = \\sum_{i=1}^{N}\\left(y_i - \\hat{y_i}\\right)^2\n",
        "$$\n",
        "\n",
        "В эксперименте с полиномиальной регрессией мы выяснили простое правило - чем больше квадраты коэффициентов регрессии, тем хуже качество. Как же нам заставить модель делать коэффициенты поменьше, чтобы качество не страдало?"
      ]
    },
    {
      "cell_type": "markdown",
      "metadata": {
        "id": "thCmFS2Gk0KI"
      },
      "source": [
        "Самое простое решение, которое приходит на ум - каким-то образом \"наказывать\" нашу модель за слишком большие значения коэффициентов линейной регрессии $w$. Давайте добавим в функцию качества модели $L(y, w)$ дополнительное слагаемое, которое содержит квадрат нормы вектора весов $\\|w\\|^2$:\n",
        "\n",
        "$$\n",
        "L(y,w) = \\sum_{i=1}^{N}\\left(y_i - \\hat{y_i}\\right)^2 + \\alpha \\cdot \\sum_{i=1}^{k}w_i^2 = \\sum_{i=1}^{N}\\left(y_i - \\hat{y_i}\\right)^2 + \\alpha \\cdot \\|w\\|^2\n",
        "$$\n",
        "\n",
        "С помощью этого трюка мы минимизируем функцию $L(x,w)$ как бы в двух направлениях:\n",
        "* уменьшаем ошибку $y-\\hat{y}$ (первый компонент формулы)\n",
        "* следим за нормой коэффициентов регрессии $\\|w\\|^2$ - модель вынуждена делать коэффициенты как можно меньшими, потому что их размер влияет на функцию ошибки $L(x,w)$\n",
        "\n",
        "Эксперимент показал: чем больше $\\|w\\|^2$, тем сильнее переобучение. Следовательно, сделав коэффициенты более маленькими, мы уменьшим переобучение!"
      ]
    },
    {
      "cell_type": "markdown",
      "metadata": {
        "id": "5MPzzdl1k0KJ"
      },
      "source": [
        "Такой процесс добавления слегаемых в целевую функцию называется *регуляризацией*. Регуляризация - это наложение дополнительных ограничений на целевую функцию $L(y, w)$. Добавляя в функцию качества $L$ сумму квадратов коэффициентов регрессии мы \"принуждаем\" нашу модель к тому, чтобы веса $w=[w_1,\\ldots,w_k]$ были как можно более меньшими по модулю. Вернёмся к формуле целевой функции регуляризованной линейной регрессии:\n",
        "$$\n",
        "L(y,w) = \\sum_{i=1}^{N}\\left(y_i - \\hat{y_i}\\right)^2 + \\alpha \\cdot \\|w\\|^2\n",
        "$$\n",
        "\n",
        "В этой формуле\n",
        "* $\\alpha$ - параметр регуляризации. Он принимает значения от $0$ до $1$: чем ближе к $1$ - тем сильнее регуляризация, тем сильнее уменьшаются веса линейной регрессии\n",
        "* квадрат нормы коэффициентов линейной регрессии: $\\|w\\|^2 = \\sum_{i=1}^{k}w_i^2$"
      ]
    },
    {
      "cell_type": "markdown",
      "metadata": {
        "id": "SPfNfvXpk0KK"
      },
      "source": [
        "Аналитическое решение новой функции ошибки имеет вид\n",
        "$$\n",
        "\\overline{w} = \\left(X^TX + \\alpha E\\right)^{-1}X^TY\n",
        "$$\n",
        "\n",
        "Обратите внимание, что формула максимально похожа на формулу для вычисления аналитических коэффициентов, с которой мы познакомились в занятии \"Линейная регрессия. Часть I\".\n",
        "Вспомним, что аналитическая формула для нахождения коэффициентов регрессии выглядит вот так \n",
        "$$\n",
        "\\overline{w} = \\left(X^TX\\right)^{-1}X^TY\n",
        "$$\n",
        "Единственное отличие - внутри скобок добавилось слагаемое $\\alpha E$, где E - [единичная матрица](https://ru.wikipedia.org/wiki/Единичная_матрица) размерности $k\\times k$ (по количеству коэффициентов линейной регрессии) - единицы стоят только на диагонали.\n",
        "$$\n",
        "E = \n",
        "\\left[\n",
        "\\begin{array}{ccccc}\n",
        "1 & 0 & \\ldots & 0 & 0 \\\\\n",
        "0 & 1 & \\ldots & 0 & 0 \\\\\n",
        "\\ldots& \\ldots& \\ldots& \\ldots& \\ldots \\\\\n",
        "0 & 0 & \\ldots & 1 & 0 \\\\\n",
        "0 & 0 & \\ldots & 0 & 1 \\\\\n",
        "\\end{array}\n",
        "\\right]\n",
        "$$"
      ]
    },
    {
      "cell_type": "markdown",
      "metadata": {
        "id": "FERWMJGrk0KL"
      },
      "source": [
        "Как именно получилась такая формула - выходит за пределы данного курса. В этом уроке главное понять - регуляризация это не магия, это математика и формулы. Чтобы запрограммировать формулу не обязательно понимать, как она получилась - главное проверить, что она работает. В прошлом уроке мы научились программировать формулу без регуляризации, а в этот раз я предлагаю вам самостоятельно запрограммировать формулу с регуляризацией в рамках домашней работы"
      ]
    },
    {
      "cell_type": "markdown",
      "metadata": {
        "id": "VNqoWsRFk0KM"
      },
      "source": [
        "**Задание среднего уровня** Мы использовали реализацию Ridge регрессии из библиотеки sklearn. Для того, чтобы  прокачать навыки программирования и освежить в памяти, как перемножать матрицы в numpy, напишите код для вычисления коэффициентов полиномиальной регрессии (для степени *degree=8*) с регуляризацией по формуле\n",
        "$$\n",
        "\\overline{w} = \\left(X^TX + \\lambda E\\right)^{-1}X^T\\overline{y}\n",
        "$$\n",
        "\n",
        "Для примера можно ориентироваться на то, как была реализована аналитическая формула для линейной регрессии в модуле \"Линейная регрессия. Часть I\"\n",
        "\n",
        "Единичную матрицу $E$ можно получить с помощью функции https://docs.scipy.org/doc/numpy/reference/generated/numpy.eye.html . Размерность матрицы $k\\times k$ (по количеству коэффициентов линейной регрессии). Напоминаю, что количество коэффициентов регрессии совпадает с количеством фичей регрессии, в задании будет $k=8$, т.к. генерим признаки для полинома восьмой степени."
      ]
    },
    {
      "cell_type": "code",
      "metadata": {
        "id": "9K7O8g4kk0KN"
      },
      "source": [
        "# -- ВАШ КОД ТУТ --\n",
        "\n"
      ],
      "execution_count": null,
      "outputs": []
    },
    {
      "cell_type": "markdown",
      "metadata": {
        "id": "hTWyGcjsk0KR"
      },
      "source": [
        "Мы рассмотрели случай, когда в целевую функцию $L(y,w)$ добавляются квадраты коэффициентов регрессии. Такая модифицикация целевой функции называется $L2$ регуляризацией. \n",
        "\n",
        "Следует отметить, что существует также $L1$ регуляризация, когда в целевую функцию $L(y,w)$ добавляются не квадраты весов, а модули весов - этот приём соответствуе метрике *MAE*, с которой вы познакомились в прошлом уроке.\n",
        "\n",
        "$$\n",
        "L1(w) = \\sum_{i=1}^{N}\\left(y_i - \\hat{y_i}\\right)^2 + \\alpha \\cdot \\sum_{i=1}^{k}|w_i|\n",
        "$$\n",
        "\n",
        "$L1$ обладает интересным эффектом - коэффициенты у фичей, которые мало влияют на целевую переменную, становятся равными нулю - то есть такая регуляризация позволяет производить отбор фичей - \"выкидываем\" из модели фичи, при которых обнулились коэффициенты. В библиотеке sklearn линейная модель с L1-регуляризацией реализована в `sklearn.linear_model.Lasso`"
      ]
    },
    {
      "cell_type": "markdown",
      "metadata": {
        "id": "mXOehbwCk0KU"
      },
      "source": [
        "Как выбрать между двумя типами регуляризации?\n",
        "* если фичей очень много (сотни), среди которых есть потенциально не важные - выбирай *L1*\n",
        "* фичей мало и все они важны - выбирай *L2* \n",
        "\n",
        "Мы познакомимся с регуляризацией $L2$ - такую регуляризацию называют *гребневой*, а реализацию этой модели возьмём из `sklearn.linear_model.Ridge`. Натренируем две модели - одну с коэффициентом регуляризации $\\alpha=0.01$, а вторую - без регуляризации $\\alpha=0.0$:"
      ]
    },
    {
      "cell_type": "code",
      "metadata": {
        "id": "xucpOLUzk0KV",
        "outputId": "9754fe28-6bb7-4188-a688-d4632a087d36"
      },
      "source": [
        "from sklearn.linear_model import Ridge\n",
        "\n",
        "#plt.scatter(data['x_train'], data['y_train'], 40, 'g', 'o', alpha=0.8, label='data')\n",
        "\n",
        "model_ridge = Ridge(alpha=0.01)\n",
        "model_linear = Ridge(alpha=0.0)\n",
        "degree = 10\n",
        "\n",
        "X = generate_degrees(data['x_train'], degree)\n",
        "y = data['y_train']\n",
        "# обучаем линейную регрессию с  регуляризацией\n",
        "model_ridge.fit(X, y)\n",
        "model_linear.fit(X, y)\n",
        "\n",
        "x_linspace = np.linspace(data['x_train'].min(), data['x_train'].max(), num=100)\n",
        "\n",
        "y_linspace_linear = model_linear.predict(generate_degrees(x_linspace, degree))\n",
        "y_linspace_ridge = model_ridge.predict(generate_degrees(x_linspace, degree))\n",
        "\n",
        "plt.plot(x_linspace, y_linspace_linear)\n",
        "plt.plot(x_linspace, y_linspace_ridge)\n",
        "\n",
        "\n",
        "plt.show()"
      ],
      "execution_count": null,
      "outputs": [
        {
          "output_type": "stream",
          "text": [
            "/home/adzhumurat/jupyter_notebooks/.venv/lib/python3.6/site-packages/sklearn/linear_model/ridge.py:125: LinAlgWarning: Ill-conditioned matrix (rcond=5.48967e-19): result may not be accurate.\n",
            "  overwrite_a=True).T\n",
            "/home/adzhumurat/jupyter_notebooks/.venv/lib/python3.6/site-packages/sklearn/linear_model/ridge.py:125: LinAlgWarning: Ill-conditioned matrix (rcond=2.23568e-22): result may not be accurate.\n",
            "  overwrite_a=True).T\n"
          ],
          "name": "stderr"
        },
        {
          "output_type": "display_data",
          "data": {
            "image/png": "[encoded data removed]",
            "text/plain": [
              "<Figure size 432x288 with 1 Axes>"
            ]
          },
          "metadata": {
            "tags": [],
            "needs_background": "light"
          }
        }
      ]
    },
    {
      "cell_type": "markdown",
      "metadata": {
        "id": "1GvjxKJNk0KZ"
      },
      "source": [
        "Готово, модели обучены! Мы видим тревожное сообщение **LinAlgWarning: Ill-conditioned matrix (rcond=2.23568e-22): result may not be accurate.** - тут ничего страшного, побороть это сообщение нам поможет знакомство с методом градиентного спуска в следующем уроке этого модуля.\n",
        "\n",
        "Мы видим, что регуляризованная модель более \"гладкая\", а вот у модели без регуляризации есть перегибы - она выглядит переобученной. Давайте проверим норму коэффициентов регрессии."
      ]
    },
    {
      "cell_type": "code",
      "metadata": {
        "id": "QrWlVmPxk0Ka",
        "outputId": "5a0c8266-23ed-48ca-f4d7-80827bb1898f"
      },
      "source": [
        "print(\"Норма вектора весов Ridge \\t||w|| = %.2f\" % (norm(model_ridge.coef_)))\n",
        "print(\"Норма вектора весов Linear \\t||w|| = %.2f\" % (norm(model_linear.coef_)))"
      ],
      "execution_count": null,
      "outputs": [
        {
          "output_type": "stream",
          "text": [
            "Норма вектора весов Ridge \t||w|| = 0.48\n",
            "Норма вектора весов Linear \t||w|| = 72.97\n"
          ],
          "name": "stdout"
        }
      ]
    },
    {
      "cell_type": "markdown",
      "metadata": {
        "id": "91z6BvOZk0Kg"
      },
      "source": [
        "Мы видим, что регуляризованная модель - более сглаженная, чем нерегуляризованная. Регуляризация позволяет бороться с излишней сложностью модели за счёт наложения дополнительных ограничений на вектор весов модели.\n",
        "\n",
        "Тем не менее, линия имеет причудливую форму - то есть мы получили довольно гибкую модель. При этом норма вектора коэффициентов линейной регрессии стала небольшой - наша модель не переобучилась."
      ]
    },
    {
      "cell_type": "markdown",
      "metadata": {
        "id": "krLerXk1k0Kh"
      },
      "source": [
        "Как видно, два разных (по норме) набора коэффициентов мы получили при двух разных значениях $\\alpha$. Как же выбрать правильное значение коэффициента регуляризации? На помощь приходит процедура, которая называется отложенный контроль, как делали в первом уроке.\n",
        "\n",
        "Реализуем эту процедуру на языке python. Для у нас есть готовая функция `sklearn.model_selection.train_test_split` :"
      ]
    },
    {
      "cell_type": "code",
      "metadata": {
        "id": "te_k8z0vk0Kh",
        "outputId": "68767ea2-255a-4136-d8a8-6010456a3546"
      },
      "source": [
        "from sklearn.model_selection import train_test_split\n",
        "\n",
        "X_train, X_test, y_train, y_test = train_test_split(\n",
        "    X, y, test_size=0.2, random_state=42\n",
        ")\n",
        "\n",
        "print(X_train.shape, X_test.shape)"
      ],
      "execution_count": null,
      "outputs": [
        {
          "output_type": "stream",
          "text": [
            "(40, 10) (10, 10)\n"
          ],
          "name": "stdout"
        }
      ]
    },
    {
      "cell_type": "markdown",
      "metadata": {
        "id": "WAS3ll_5k0Kn"
      },
      "source": [
        "Из 50 точек 40 попало в *train set* и 10 в *validation set* - давайте реализуем остальные шаги алгоритма"
      ]
    },
    {
      "cell_type": "code",
      "metadata": {
        "id": "eMAMBAXik0Kn",
        "outputId": "7ec5ca98-09e6-4f74-9187-cef3fb36e195"
      },
      "source": [
        "alphas = [0.1, 0.15, 0.35 ,0.5,0.8]\n",
        "\n",
        "best_alpha = alphas[0]\n",
        "best_rmse = np.infty\n",
        "\n",
        "for alpha in alphas:\n",
        "    model_ridge = Ridge(alpha=alpha)\n",
        "    # обучаем линейную регрессию с  регуляризацией\n",
        "    model_ridge.fit(X_train, y_train)\n",
        "    y_pred = model_ridge.predict(X_test)\n",
        "    error = mean_squared_error(y_test, y_pred)\n",
        "    if error < best_rmse:\n",
        "        best_rmse = error\n",
        "        best_alpha = alpha\n",
        "    print(\"alpha =%.2f Ошибка %.5f\" % (alpha, error))\n",
        "print('\\n-------\\nЛучшая модель aplpha=%.2f с ошибкой RMSE=%.5f\\n-------' % (best_alpha, best_rmse))"
      ],
      "execution_count": null,
      "outputs": [
        {
          "output_type": "stream",
          "text": [
            "alpha =0.10 Ошибка 0.04262\n",
            "alpha =0.15 Ошибка 0.04230\n",
            "alpha =0.35 Ошибка 0.04253\n",
            "alpha =0.50 Ошибка 0.04295\n",
            "alpha =0.80 Ошибка 0.04369\n",
            "\n",
            "-------\n",
            "Лучшая модель aplpha=0.15 с ошибкой RMSE=0.04230\n",
            "-------\n"
          ],
          "name": "stdout"
        },
        {
          "output_type": "stream",
          "text": [
            "/home/adzhumurat/jupyter_notebooks/.venv/lib/python3.6/site-packages/sklearn/linear_model/ridge.py:125: LinAlgWarning: Ill-conditioned matrix (rcond=8.01088e-18): result may not be accurate.\n",
            "  overwrite_a=True).T\n",
            "/home/adzhumurat/jupyter_notebooks/.venv/lib/python3.6/site-packages/sklearn/linear_model/ridge.py:125: LinAlgWarning: Ill-conditioned matrix (rcond=1.16361e-17): result may not be accurate.\n",
            "  overwrite_a=True).T\n",
            "/home/adzhumurat/jupyter_notebooks/.venv/lib/python3.6/site-packages/sklearn/linear_model/ridge.py:125: LinAlgWarning: Ill-conditioned matrix (rcond=2.74011e-17): result may not be accurate.\n",
            "  overwrite_a=True).T\n",
            "/home/adzhumurat/jupyter_notebooks/.venv/lib/python3.6/site-packages/sklearn/linear_model/ridge.py:125: LinAlgWarning: Ill-conditioned matrix (rcond=3.85494e-17): result may not be accurate.\n",
            "  overwrite_a=True).T\n",
            "/home/adzhumurat/jupyter_notebooks/.venv/lib/python3.6/site-packages/sklearn/linear_model/ridge.py:125: LinAlgWarning: Ill-conditioned matrix (rcond=6.05148e-17): result may not be accurate.\n",
            "  overwrite_a=True).T\n"
          ],
          "name": "stderr"
        }
      ]
    },
    {
      "cell_type": "markdown",
      "metadata": {
        "id": "GJeq0yX3k0Kr"
      },
      "source": [
        "В этом уроке мы научились делать наши модели намного стабильнее - теперь веса линейной регрессии не увеличиваются с ростом степени полинома, а остаются заключёнными в допустимых пределах. Мы научились уменьшать переобучение с помощью регуляризации модели.\n",
        "\n",
        "Однако, мы столкнулись с ворненгом **LinAlgWarning** что это за ошибка? Почему она возникает? Как её побороть? Об этом мы поговорим в следующем уроке."
      ]
    }
  ]
}