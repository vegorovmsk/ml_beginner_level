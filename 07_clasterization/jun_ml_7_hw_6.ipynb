{
  "nbformat": 4,
  "nbformat_minor": 0,
  "metadata": {
    "colab": {
      "name": "jun_ml_7_hw-6.ipynb",
      "provenance": [],
      "collapsed_sections": []
    },
    "kernelspec": {
      "display_name": "Python 3",
      "language": "python",
      "name": "python3"
    },
    "language_info": {
      "codemirror_mode": {
        "name": "ipython",
        "version": 3
      },
      "file_extension": ".py",
      "mimetype": "text/x-python",
      "name": "python",
      "nbconvert_exporter": "python",
      "pygments_lexer": "ipython3",
      "version": "3.6.3"
    }
  },
  "cells": [
    {
      "cell_type": "markdown",
      "metadata": {
        "id": "B3KaF1cvPTEr"
      },
      "source": [
        "## Урок 10. Домашнее задание \n",
        "\n",
        "### 10.1 Домашнее задание начального уровня\n",
        "\n",
        "Обучите *k-means* для количества кластеров $k=4$ на датасете `data/clustering.pkl`. Как изменилась метрика силуэтта? Стало лучше или хуже? Какое количество кластеров лучше, два или четыре?"
      ]
    },
    {
      "cell_type": "code",
      "metadata": {
        "id": "4EerOYSgPTEu"
      },
      "source": [
        "# -- ВАШ КОД ТУТ --\n",
        "\n"
      ],
      "execution_count": null,
      "outputs": []
    },
    {
      "cell_type": "markdown",
      "metadata": {
        "id": "iUCVoJeaPTEz"
      },
      "source": [
        "\n",
        "### 10.2 Домашнее задание начального уровня\n",
        "\n",
        "Обучите *k-means* для количества кластеров $k=4$ на датасете `data/clustering.pkl`. Как изменилась метрика *AMI*? Стало лучше или хуже? Какое количество кластеров лучше по метрике AMI?"
      ]
    },
    {
      "cell_type": "code",
      "metadata": {
        "id": "Q6sYr2h3PTE1"
      },
      "source": [
        "# -- ВАШ КОД ТУТ --\n",
        "\n"
      ],
      "execution_count": null,
      "outputs": []
    },
    {
      "cell_type": "markdown",
      "metadata": {
        "id": "fY8FY1FcPTE4"
      },
      "source": [
        "\n",
        "### 10.3 Домашнее задание высокого уровня\n",
        "\n",
        "Загрузите датасет `clustering_hw.csv` из приложенной директории `data` и визуализируйте данные. Должно получится как-то так:\n",
        "\n",
        "![clustering_hw](https://248006.selcdn.ru/public/DS.%20Block%202.%20M7/clustering_hw.png)\n",
        "\n",
        "В рамках домашней работы\n",
        "\n",
        "1. вычислите оптимальное количество кластеров $k$\n",
        "1. обучите k-means с количеством кластеров  $k$\n",
        "1. к какому кластеру принадлежит точка $x=(5, 8)$? к какому кластеру принадлежит точка $x=(0, 5)$? Они принадлежат к разным кластерам или одному?\n",
        "1. Каково качество кластеризации по AMI"
      ]
    },
    {
      "cell_type": "code",
      "metadata": {
        "id": "4XJifI-CPTE5"
      },
      "source": [
        "# -- ВАШ КОД ТУТ --\n",
        "\n"
      ],
      "execution_count": null,
      "outputs": []
    },
    {
      "cell_type": "markdown",
      "metadata": {
        "id": "28VnuIijPTE8"
      },
      "source": [
        "### Заключение\n",
        "\n",
        "Мы познакомились с двумя метриками\n",
        "\n",
        "* Silhouette. Её используем, когда есть только сами объекты, а метки кластеров отсутствуют в обучающей выборке\n",
        "* AMI. Её используем, когда известны \"истинные\" метки кластеров\n",
        "\n",
        "Метрик намного больше - о них можно почитать [ в документации sklearn](https://scikit-learn.org/stable/modules/classes.html#clustering-metrics)"
      ]
    },
    {
      "cell_type": "code",
      "metadata": {
        "id": "tm_ipxKhPTE9"
      },
      "source": [
        ""
      ],
      "execution_count": null,
      "outputs": []
    }
  ]
}