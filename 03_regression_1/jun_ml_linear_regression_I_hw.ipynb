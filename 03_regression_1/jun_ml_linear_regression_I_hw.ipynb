{
 "cells": [
  {
   "cell_type": "markdown",
   "metadata": {
    "colab_type": "text",
    "id": "WAyRDni_6GHU"
   },
   "source": [
    "### Урок 5. Домашняя работа\n",
    "\n",
    "Есть два набора точек - *x_hw* и *y_hw*. В рамках домашней работы нужно\n",
    "* визуализировать набор точек\n",
    "* найти коэффициенты регрессии $w_0, w_1$ по шагам, как в уроке\n",
    "* посчитать предсказание в виде $\\hat{y} = w_0 + w_1x$ и визуализировать его вместе с точками *x_hw* и *y_hw*"
   ]
  },
  {
   "cell_type": "code",
   "execution_count": 1,
   "metadata": {},
   "outputs": [],
   "source": [
    "from matplotlib import pyplot as plt\n",
    "import numpy as np\n",
    "from numpy.linalg import inv\n",
    "\n",
    "from sklearn.preprocessing import StandardScaler\n"
   ]
  },
  {
   "cell_type": "code",
   "execution_count": 2,
   "metadata": {
    "colab": {},
    "colab_type": "code",
    "id": "74wa1k6p6GHf"
   },
   "outputs": [],
   "source": [
    "x_hw = [50, 60, 70, 100]\n",
    "y_hw = [10, 15, 40, 45]"
   ]
  },
  {
   "cell_type": "code",
   "execution_count": 3,
   "metadata": {},
   "outputs": [
    {
     "data": {
      "image/png": "[encoded data removed]",
      "text/plain": [
       "<Figure size 432x288 with 1 Axes>"
      ]
     },
     "metadata": {
      "needs_background": "light"
     },
     "output_type": "display_data"
    }
   ],
   "source": [
    "plt.scatter(x_hw, y_hw)\n",
    "plt.show()"
   ]
  },
  {
   "cell_type": "code",
   "execution_count": 4,
   "metadata": {},
   "outputs": [
    {
     "data": {
      "text/plain": [
       "array([[  1,  50],\n",
       "       [  1,  60],\n",
       "       [  1,  70],\n",
       "       [  1, 100]])"
      ]
     },
     "execution_count": 4,
     "metadata": {},
     "output_type": "execute_result"
    }
   ],
   "source": [
    "X = np.array(list([1, x] for x in x_hw))\n",
    "X"
   ]
  },
  {
   "cell_type": "code",
   "execution_count": 5,
   "metadata": {},
   "outputs": [
    {
     "data": {
      "text/plain": [
       "array([[10],\n",
       "       [15],\n",
       "       [40],\n",
       "       [45]])"
      ]
     },
     "execution_count": 5,
     "metadata": {},
     "output_type": "execute_result"
    }
   ],
   "source": [
    "Y = np.array(y_hw).reshape(-1, 1)\n",
    "Y"
   ]
  },
  {
   "cell_type": "markdown",
   "metadata": {},
   "source": [
    "$\n",
    "\\overline{w} = \\left(X^TX\\right)^{-1}X^TY\n",
    "$"
   ]
  },
  {
   "cell_type": "code",
   "execution_count": 6,
   "metadata": {},
   "outputs": [
    {
     "data": {
      "text/plain": [
       "array([[-22.5       ],\n",
       "       [  0.71428571]])"
      ]
     },
     "execution_count": 6,
     "metadata": {},
     "output_type": "execute_result"
    }
   ],
   "source": [
    "w = inv((X.T).dot(X))\\\n",
    "    .dot(X.T)\\\n",
    "    .dot(Y)\n",
    "w"
   ]
  },
  {
   "cell_type": "code",
   "execution_count": 7,
   "metadata": {},
   "outputs": [
    {
     "name": "stdout",
     "output_type": "stream",
     "text": [
      "-22.50000 0.714\n"
     ]
    }
   ],
   "source": [
    "print('{:.5f} {:.3f}'.format(w[0][0], w[1][0]))"
   ]
  },
  {
   "cell_type": "code",
   "execution_count": 8,
   "metadata": {},
   "outputs": [],
   "source": [
    "def y_pred(x):\n",
    "    return w[0][0] + w[1][0] * x"
   ]
  },
  {
   "cell_type": "code",
   "execution_count": 9,
   "metadata": {},
   "outputs": [
    {
     "data": {
      "image/png": "[encoded data removed]",
      "text/plain": [
       "<Figure size 432x288 with 1 Axes>"
      ]
     },
     "metadata": {
      "needs_background": "light"
     },
     "output_type": "display_data"
    }
   ],
   "source": [
    "plt.scatter(x_hw, y_hw)\n",
    "plt.plot([min(x_hw), max(x_hw)], [y_pred(min(x_hw)), y_pred(max(x_hw))], c='r')\n",
    "plt.show()"
   ]
  },
  {
   "cell_type": "markdown",
   "metadata": {},
   "source": [
    "### Урок 7. Домашняя работа\n",
    "\n",
    "У вас есть два набора точек – истинные значения *y_true* и предсказанные значения *y_pred*\n",
    "\n",
    "* для каждой точки из *y_true* постройте величину ошибки $e = y-\\hat{y}$ – это называется **остатки регрессии**\n",
    "* возведите ошибки в квадрат $e^2$\n",
    "* постройте график ошибок – зависимость $e^2$ от $e$"
   ]
  },
  {
   "cell_type": "code",
   "execution_count": 10,
   "metadata": {},
   "outputs": [],
   "source": [
    "\n",
    "y_pred_ = np.array([30.0, 25.03, 30.57, 28.61, 27.94, 25.26, 23.0, 19.54, 11.52, 18.92, 19.0, 21.59, 20.91, 19.55, 19.28, 19.3, 20.53, 16.91, 16.18, 18.41, 12.52, 17.67, 15.83, 13.81, 15.68, 13.39, 15.46, 14.71, 19.55, 20.88, 11.46, 18.06, 8.81, 14.28, 13.71, 23.81, 22.34, 23.11, 22.92, 31.36])\n",
    "y_true_ = np.array([24.0, 21.6, 34.7, 33.4, 36.2, 28.7, 22.9, 27.1, 16.5, 18.9, 15.0, 18.9, 21.7, 20.4, 18.2, 19.9, 23.1, 17.5, 20.2, 18.2, 13.6, 19.6, 15.2, 14.5, 15.6, 13.9, 16.6, 14.8, 18.4, 21.0, 12.7, 14.5, 13.2, 13.1, 13.5, 18.9, 20.0, 21.0, 24.7, 30.8])"
   ]
  },
  {
   "cell_type": "code",
   "execution_count": 11,
   "metadata": {},
   "outputs": [
    {
     "data": {
      "image/png": "[encoded data removed]",
      "text/plain": [
       "<Figure size 432x288 with 1 Axes>"
      ]
     },
     "metadata": {
      "needs_background": "light"
     },
     "output_type": "display_data"
    }
   ],
   "source": [
    "\n",
    "%matplotlib inline\n",
    "\n",
    "# -- ВАШ КОД ТУТ --\n",
    "\n",
    "residuals = (y_pred_ - y_true_)\n",
    "squared_err = residuals ** 2\n",
    "\n",
    "plt.scatter(residuals, squared_err)\n",
    "plt.title(\"Squared error vs Residuals\", pad=15.0, fontsize=14)\n",
    "plt.xlabel(\"Residuals\")\n",
    "plt.ylabel(\"Squared error\")\n",
    "plt.show()"
   ]
  },
  {
   "cell_type": "markdown",
   "metadata": {},
   "source": [
    "### Урок 9. Домашняя работа\n",
    "\n",
    "Даны точки $x$ и значения в этих точках $y$. Нормализуйте $y$ с помощью *z-score* и постройте график зависимости нормализованных значений от $x$. Для графика используйте `.scatter(x,y_tansformed)`"
   ]
  },
  {
   "cell_type": "code",
   "execution_count": 12,
   "metadata": {},
   "outputs": [],
   "source": [
    "\n",
    "x = np.linspace(1,10,num=10)\n",
    "y = np.array(\n",
    "    [1.,  3.,  4.,  2., 10.,  5.,  5.,  2.,  5., 10.],\n",
    "    dtype=np.float32\n",
    ")\n"
   ]
  },
  {
   "cell_type": "code",
   "execution_count": 13,
   "metadata": {},
   "outputs": [
    {
     "data": {
      "text/plain": [
       "array([[-1.2465616 ],\n",
       "       [-0.57274455],\n",
       "       [-0.23583598],\n",
       "       [-0.9096531 ],\n",
       "       [ 1.7856153 ],\n",
       "       [ 0.10107257],\n",
       "       [ 0.10107257],\n",
       "       [-0.9096531 ],\n",
       "       [ 0.10107257],\n",
       "       [ 1.7856153 ]], dtype=float32)"
      ]
     },
     "execution_count": 13,
     "metadata": {},
     "output_type": "execute_result"
    }
   ],
   "source": [
    "scaler = StandardScaler()\n",
    "y_transformed = scaler.fit_transform(y.reshape(-1, 1))\n",
    "y_transformed"
   ]
  },
  {
   "cell_type": "code",
   "execution_count": 14,
   "metadata": {},
   "outputs": [
    {
     "data": {
      "image/png": "[encoded data removed]",
      "text/plain": [
       "<Figure size 432x288 with 1 Axes>"
      ]
     },
     "metadata": {
      "needs_background": "light"
     },
     "output_type": "display_data"
    }
   ],
   "source": [
    "plt.scatter(x, y_transformed)\n",
    "plt.show()"
   ]
  },
  {
   "cell_type": "markdown",
   "metadata": {},
   "source": [
    "### Урок 11. Домашняя работа\n",
    "\n",
    "**Задание простого уровня** Мы говорили, что метрики качества нужны, чтобы сравнивать различные модели между собой. В задаче полиномиальной регрессии реализуйте код для выбора лучшей степени полиному:\n",
    "\n",
    "* возьмите все степени от 1 до 10 по порядку, без пропусков.\n",
    "* найдите степень полинома, где будет лучший r2-score\n",
    "* напишите код, который выводит самую подходящую степень полинома и соответствующий ей скор\n",
    "\n",
    "Эта процедура называется Grid Search и помогает найти лучшие параметры для модели.\n",
    "\n",
    "Обучите лучшую модель и сделайте predict"
   ]
  },
  {
   "cell_type": "code",
   "execution_count": 15,
   "metadata": {},
   "outputs": [],
   "source": [
    "import pandas as pd\n",
    "\n",
    "from sklearn.linear_model import LinearRegression\n",
    "from sklearn.metrics import r2_score"
   ]
  },
  {
   "cell_type": "code",
   "execution_count": 16,
   "metadata": {},
   "outputs": [
    {
     "data": {
      "text/html": [
       "<div>\n",
       "<style scoped>\n",
       "    .dataframe tbody tr th:only-of-type {\n",
       "        vertical-align: middle;\n",
       "    }\n",
       "\n",
       "    .dataframe tbody tr th {\n",
       "        vertical-align: top;\n",
       "    }\n",
       "\n",
       "    .dataframe thead th {\n",
       "        text-align: right;\n",
       "    }\n",
       "</style>\n",
       "<table border=\"1\" class=\"dataframe\">\n",
       "  <thead>\n",
       "    <tr style=\"text-align: right;\">\n",
       "      <th></th>\n",
       "      <th>x_train</th>\n",
       "      <th>y_train</th>\n",
       "    </tr>\n",
       "  </thead>\n",
       "  <tbody>\n",
       "    <tr>\n",
       "      <th>0</th>\n",
       "      <td>0.138368</td>\n",
       "      <td>0.838812</td>\n",
       "    </tr>\n",
       "    <tr>\n",
       "      <th>1</th>\n",
       "      <td>0.157237</td>\n",
       "      <td>0.889313</td>\n",
       "    </tr>\n",
       "    <tr>\n",
       "      <th>2</th>\n",
       "      <td>0.188684</td>\n",
       "      <td>1.430040</td>\n",
       "    </tr>\n",
       "    <tr>\n",
       "      <th>3</th>\n",
       "      <td>0.685553</td>\n",
       "      <td>1.717309</td>\n",
       "    </tr>\n",
       "    <tr>\n",
       "      <th>4</th>\n",
       "      <td>0.874237</td>\n",
       "      <td>2.032588</td>\n",
       "    </tr>\n",
       "  </tbody>\n",
       "</table>\n",
       "</div>"
      ],
      "text/plain": [
       "    x_train   y_train\n",
       "0  0.138368  0.838812\n",
       "1  0.157237  0.889313\n",
       "2  0.188684  1.430040\n",
       "3  0.685553  1.717309\n",
       "4  0.874237  2.032588"
      ]
     },
     "execution_count": 16,
     "metadata": {},
     "output_type": "execute_result"
    }
   ],
   "source": [
    "data = pd.read_csv(\"3.10_non_linear.csv\")\n",
    "data.head()"
   ]
  },
  {
   "cell_type": "code",
   "execution_count": 17,
   "metadata": {},
   "outputs": [
    {
     "data": {
      "image/png": "[encoded data removed]",
      "text/plain": [
       "<Figure size 432x288 with 1 Axes>"
      ]
     },
     "metadata": {
      "needs_background": "light"
     },
     "output_type": "display_data"
    }
   ],
   "source": [
    "plt.scatter(data.x_train, data.y_train)\n",
    "plt.show()"
   ]
  },
  {
   "cell_type": "code",
   "execution_count": 18,
   "metadata": {},
   "outputs": [],
   "source": [
    "def degrees_generator(source_data, degree):\n",
    "    return np.array([\n",
    "        source_data ** n for n in range(1, degree + 1)\n",
    "    ]).T"
   ]
  },
  {
   "cell_type": "code",
   "execution_count": 19,
   "metadata": {},
   "outputs": [],
   "source": [
    "def train_polynomial(source_data, target_data, degree):\n",
    "    X = degrees_generator(source_data, degree)\n",
    "    model = LinearRegression().fit(X, target_data)\n",
    "    y_pred = model.predict(X)\n",
    "    r_2_score = r2_score(target_data, y_pred)\n",
    "    return y_pred, r_2_score"
   ]
  },
  {
   "cell_type": "code",
   "execution_count": 20,
   "metadata": {},
   "outputs": [],
   "source": [
    "def best_r2(source_data, target_data, degree):\n",
    "    r_squares = {deg: train_polynomial(source_data, target_data, deg)[1] for deg in range(1, degree + 1)}\n",
    "    max_score = max(r_squares.items(), key=lambda x: x[1])\n",
    "    return max_score, r_squares"
   ]
  },
  {
   "cell_type": "code",
   "execution_count": 21,
   "metadata": {},
   "outputs": [
    {
     "name": "stdout",
     "output_type": "stream",
     "text": [
      "Лучший r2-score равный 0.91639 даёт полином 14 степени\n",
      "Степень полинома 10 как в задании даст r2-score равный 0.90911\n"
     ]
    }
   ],
   "source": [
    "# При степени полинома 30 график хорошо иллюстрирует снижение величины r2-score при увеличении степени\n",
    "# Степень полинома 10 как в задании даст r2-score немного ниже максимального, а именно 0.909\n",
    "\n",
    "degree = 30\n",
    "best_scores = best_r2(data.x_train, data.y_train, degree)\n",
    "best_degree = best_scores[0][0]\n",
    "print(\"Лучший r2-score равный {:.5f} даёт полином {} степени\".format(best_scores[0][1], best_scores[0][0]))\n",
    "print(\"Степень полинома 10 как в задании даст r2-score равный {:.5f}\".format(best_scores[1][10]))"
   ]
  },
  {
   "cell_type": "code",
   "execution_count": 22,
   "metadata": {},
   "outputs": [
    {
     "data": {
      "image/png": "[encoded data removed]",
      "text/plain": [
       "<Figure size 432x288 with 1 Axes>"
      ]
     },
     "metadata": {
      "needs_background": "light"
     },
     "output_type": "display_data"
    }
   ],
   "source": [
    "plt.plot(best_scores[1].keys(), best_scores[1].values())\n",
    "plt.scatter(best_scores[0][0], best_scores[0][1], 100, marker='x', c='r', label=f'r2-score {best_scores[0][1]:.5f} with power {best_scores[0][0]} is the best')\n",
    "plt.scatter(10, best_scores[1][10], 100, marker='o', c='orange', label=f'r2-score {best_scores[1][10]:.5f} with power 10 as in task')\n",
    "plt.legend(loc=0, bbox_to_anchor=(1.1, 1), fontsize=14)\n",
    "plt.show()"
   ]
  },
  {
   "cell_type": "code",
   "execution_count": 23,
   "metadata": {},
   "outputs": [
    {
     "data": {
      "image/png": "[encoded data removed]",
      "text/plain": [
       "<Figure size 432x288 with 1 Axes>"
      ]
     },
     "metadata": {
      "needs_background": "light"
     },
     "output_type": "display_data"
    }
   ],
   "source": [
    "y_best, _ = train_polynomial(data.x_train, data.y_train, best_degree)\n",
    "\n",
    "plt.scatter(data.x_train, data.y_train)\n",
    "plt.plot(data.x_train, y_best, c='g')\n",
    "plt.title(\"Полиномиальная регрессия {} степени с r2-score равным {:.5f}\"\\\n",
    "          .format(best_scores[0][0], best_scores[0][1]),\n",
    "         fontsize=14)\n",
    "plt.show()"
   ]
  },
  {
   "cell_type": "markdown",
   "metadata": {},
   "source": [
    "**Задание среднего уровня** Напишите класс для обучения модели, который содержит:\n",
    "\n",
    "* функцию `.fit(X, y)` , которая принимает на вход массив фичей `X`, массив таргетов `y` и обучает коэффициенты регрессии. Код для обучения взять из первого урока модуля *Постановка ML задачи линейной регрессии*\n",
    "* функцию `.predict(X)`, которая по массиву фичей `X` возвращает массив предсказаний `y`\n",
    "\n",
    "Нужно использовать код для аналитически вычисляемых коэффициентов. \n",
    "\n",
    "Это задание позволит понять, как работает линейная регрессия \"внутри\" библиотечной реализации."
   ]
  },
  {
   "cell_type": "code",
   "execution_count": 24,
   "metadata": {},
   "outputs": [],
   "source": [
    "class CustomLinearReg:\n",
    "    intercept_, slope_ = 0, 0\n",
    "    \n",
    "    def __init__(self):\n",
    "        from numpy.linalg import inv\n",
    "    \n",
    "    def fit(self, X, y):\n",
    "        X = np.array(list([1, x] for x in X))\n",
    "        y = np.array(y).reshape(-1, 1)\n",
    "        w = inv((X.T).dot(X))\\\n",
    "            .dot(X.T)\\\n",
    "            .dot(y)\n",
    "        self.intercept_, self.slope_ = w[0][0], w[1][0]\n",
    "    \n",
    "    def predict(self, X):\n",
    "        return self.intercept_ + self.slope_ * np.array(X)"
   ]
  },
  {
   "cell_type": "code",
   "execution_count": 25,
   "metadata": {},
   "outputs": [],
   "source": [
    "my_reg = CustomLinearReg()\n",
    "my_reg.fit(x_hw, y_hw)"
   ]
  },
  {
   "cell_type": "code",
   "execution_count": 26,
   "metadata": {},
   "outputs": [
    {
     "data": {
      "image/png": "[encoded data removed]",
      "text/plain": [
       "<Figure size 432x288 with 1 Axes>"
      ]
     },
     "metadata": {
      "needs_background": "light"
     },
     "output_type": "display_data"
    }
   ],
   "source": [
    "plt.scatter(x_hw, y_hw)\n",
    "plt.plot(x_hw, my_reg.predict(x_hw), 'r')\n",
    "plt.show()"
   ]
  },
  {
   "cell_type": "markdown",
   "metadata": {},
   "source": [
    "**Задание высокого уровня**\n",
    "\n",
    "1. разделите датасет с домами Бостона из Урока 2 (таргет и фичи) на две части: в одной части 80% датасета (назовём train) в другой 20% (назовём valid) с помощью функции `train_test_split` из библиотеки `sklearn`\n",
    "1. обучите модель только на train датасете\n",
    "1. постройте предсказания valid датасете\n",
    "1. Посчитайте  `r2 score` на валидационном сете\n",
    "\n",
    "После этого примените к обеим датасетам z-преобразование и повторите шаги 2-4. Как изменилась метрика r2?\n",
    "\n",
    "Это задание поможет понять, как валидировать линейную регрессию (и другие модели) на отложенной выборке."
   ]
  },
  {
   "cell_type": "code",
   "execution_count": 27,
   "metadata": {},
   "outputs": [],
   "source": [
    "from sklearn.model_selection import train_test_split\n",
    "from sklearn.datasets import load_boston\n",
    "\n",
    "X, y = load_boston(return_X_y=True)"
   ]
  },
  {
   "cell_type": "code",
   "execution_count": 28,
   "metadata": {},
   "outputs": [],
   "source": [
    "x_train, x_valid, y_train, y_valid = train_test_split(X, y, test_size=0.2)"
   ]
  },
  {
   "cell_type": "code",
   "execution_count": 29,
   "metadata": {},
   "outputs": [
    {
     "data": {
      "text/plain": [
       "0.7548262855078388"
      ]
     },
     "execution_count": 29,
     "metadata": {},
     "output_type": "execute_result"
    }
   ],
   "source": [
    "simple_model = LinearRegression()\n",
    "simple_model.fit(x_train, y_train)\n",
    "y_prediction_1 = simple_model.predict(x_valid)\n",
    "r2_score_1 = r2_score(y_valid, y_prediction_1)\n",
    "r2_score_1"
   ]
  },
  {
   "cell_type": "code",
   "execution_count": 30,
   "metadata": {},
   "outputs": [],
   "source": [
    "from sklearn.preprocessing import StandardScaler\n",
    "\n",
    "scaler = StandardScaler()"
   ]
  },
  {
   "cell_type": "code",
   "execution_count": 31,
   "metadata": {},
   "outputs": [],
   "source": [
    "y_train_transformed = scaler.fit_transform(y_train.reshape(-1, 1)).reshape(-1)\n",
    "y_valid_transformed = scaler.fit_transform(y_valid.reshape(-1, 1)).reshape(-1)\n",
    "x_train_transformed = scaler.fit_transform(x_train)\n",
    "x_valid_transformed = scaler.fit_transform(x_valid)"
   ]
  },
  {
   "cell_type": "code",
   "execution_count": 32,
   "metadata": {},
   "outputs": [
    {
     "data": {
      "text/plain": [
       "0.742374876485514"
      ]
     },
     "execution_count": 32,
     "metadata": {},
     "output_type": "execute_result"
    }
   ],
   "source": [
    "z_model = LinearRegression()\n",
    "z_model.fit(x_train_transformed, y_train_transformed)\n",
    "y_prediction_z = z_model.predict(x_valid_transformed)\n",
    "r2_score_z = r2_score(y_valid_transformed, y_prediction_z)\n",
    "r2_score_z"
   ]
  },
  {
   "cell_type": "markdown",
   "metadata": {},
   "source": [
    "При повторном выполнении ячеек метрика r2 иногда увеличивается, но не сильно, иногда становится меньше"
   ]
  },
  {
   "cell_type": "code",
   "execution_count": null,
   "metadata": {},
   "outputs": [],
   "source": []
  }
 ],
 "metadata": {
  "colab": {
   "collapsed_sections": [],
   "name": "jun_ml_linear_regression_I_hw_5.ipynb",
   "provenance": []
  },
  "kernelspec": {
   "display_name": "Python 3",
   "language": "python",
   "name": "python3"
  },
  "language_info": {
   "codemirror_mode": {
    "name": "ipython",
    "version": 3
   },
   "file_extension": ".py",
   "mimetype": "text/x-python",
   "name": "python",
   "nbconvert_exporter": "python",
   "pygments_lexer": "ipython3",
   "version": "3.8.5"
  }
 },
 "nbformat": 4,
 "nbformat_minor": 1
}
